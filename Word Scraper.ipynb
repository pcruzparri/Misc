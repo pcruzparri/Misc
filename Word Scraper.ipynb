{
 "cells": [
  {
   "cell_type": "code",
   "execution_count": 1,
   "id": "1537cb96-3f8e-41f8-ac4a-bee5fc3f83c1",
   "metadata": {},
   "outputs": [],
   "source": [
    "import requests\n",
    "import string\n",
    "import itertools as it\n",
    "from concurrent.futures import ThreadPoolExecutor"
   ]
  },
  {
   "cell_type": "code",
   "execution_count": 7,
   "id": "b4ab5bee-0bb7-477a-ac23-5059a8b73d31",
   "metadata": {},
   "outputs": [],
   "source": [
    "def get_word(session, word):\n",
    "    r = session.get(f'https://api.dictionaryapi.dev/api/v2/entries/en/{word}')\n",
    "    if '\"word\"' in r.text:\n",
    "        return r.json()[0]['word']\n",
    "\n",
    "with requests.Session() as s:\n",
    "    words = map(''.join, it.product(*[string.ascii_lowercase]*3))\n",
    "    with ThreadPoolExecutor(max_workers=20) as executor:\n",
    "        futures = filter(lambda x:x!=None, executor.map(lambda w: get_word(s, w), words))\n"
   ]
  },
  {
   "cell_type": "code",
   "execution_count": 8,
   "id": "f4c837b6-4700-4975-9464-b39d8f248464",
   "metadata": {},
   "outputs": [
    {
     "data": {
      "text/plain": [
       "['aaa', 'aad', 'aam', 'aba', 'grp', 'gub', 'nob', 'nog', 'nov', 'now', 'nox']"
      ]
     },
     "execution_count": 8,
     "metadata": {},
     "output_type": "execute_result"
    }
   ],
   "source": [
    "[f for f in futures]"
   ]
  },
  {
   "cell_type": "code",
   "execution_count": null,
   "id": "b6f6c567-feb2-489e-a5b0-9a0c56604463",
   "metadata": {},
   "outputs": [],
   "source": []
  }
 ],
 "metadata": {
  "kernelspec": {
   "display_name": "Python 3 (ipykernel)",
   "language": "python",
   "name": "python3"
  },
  "language_info": {
   "codemirror_mode": {
    "name": "ipython",
    "version": 3
   },
   "file_extension": ".py",
   "mimetype": "text/x-python",
   "name": "python",
   "nbconvert_exporter": "python",
   "pygments_lexer": "ipython3",
   "version": "3.10.14"
  }
 },
 "nbformat": 4,
 "nbformat_minor": 5
}
