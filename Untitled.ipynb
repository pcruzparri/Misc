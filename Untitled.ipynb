{
 "cells": [
  {
   "cell_type": "code",
   "execution_count": 1,
   "id": "3b08404f-42fb-449b-b152-6e7089e03790",
   "metadata": {},
   "outputs": [],
   "source": [
    "import requests"
   ]
  },
  {
   "cell_type": "code",
   "execution_count": 3,
   "id": "75fb5b38-449e-4273-9eeb-17fa8a3d7dcd",
   "metadata": {},
   "outputs": [
    {
     "data": {
      "text/plain": [
       "{'message_short': 'Forbidden',\n",
       " 'message_long': 'You do not have permission to perform this action. If this should not have occurred and the issue persists, please report it to <a href=\"mailto:support@osf.io\">support@osf.io</a>.',\n",
       " 'code': 403,\n",
       " 'referrer': None}"
      ]
     },
     "execution_count": 3,
     "metadata": {},
     "output_type": "execute_result"
    }
   ],
   "source": [
    "requests.get(r\"https://osf.io/6s7gk/download\").json()\n"
   ]
  },
  {
   "cell_type": "code",
   "execution_count": null,
   "id": "a9d396c7-386a-4a92-bf9c-67c431439178",
   "metadata": {},
   "outputs": [],
   "source": [
    "with open('test.json', w) as f:\n",
    "    "
   ]
  }
 ],
 "metadata": {
  "kernelspec": {
   "display_name": "Python 3 (ipykernel)",
   "language": "python",
   "name": "python3"
  },
  "language_info": {
   "codemirror_mode": {
    "name": "ipython",
    "version": 3
   },
   "file_extension": ".py",
   "mimetype": "text/x-python",
   "name": "python",
   "nbconvert_exporter": "python",
   "pygments_lexer": "ipython3",
   "version": "3.12.4"
  }
 },
 "nbformat": 4,
 "nbformat_minor": 5
}
