{
 "cells": [
  {
   "cell_type": "code",
   "execution_count": 1,
   "id": "71da349a",
   "metadata": {},
   "outputs": [],
   "source": [
    "from scipy.ndimage import rotate as r\n",
    "import numpy as np\n",
    "import matplotlib.pyplot as plt\n",
    "import time "
   ]
  },
  {
   "cell_type": "code",
   "execution_count": 37,
   "id": "1f4f8dd6",
   "metadata": {},
   "outputs": [],
   "source": [
    "# matrix\n",
    "\n",
    "def makeGaussian(size, fwhm=3, center=None, amp=1):\n",
    "    \"\"\" Make a square gaussian kernel.\n",
    "\n",
    "    size is the length of a side of the square\n",
    "    fwhm is full-width-half-maximum, which\n",
    "    can be thought of as an effective radius.\n",
    "    \"\"\"\n",
    "\n",
    "    x = np.arange(0, size, 1, float)\n",
    "    y = x[:, np.newaxis]\n",
    "\n",
    "    if center is None:\n",
    "        x0 = y0 = size // 2\n",
    "    else:\n",
    "        x0 = center[0]\n",
    "        y0 = center[1]\n",
    "\n",
    "    return np.exp(-4*np.log(2) * ((x-x0)**2 + (y-y0)**2) / fwhm**2)/ (2*np.pi*fwhm**2)/(-4*np.log(2))**2\n",
    "\n",
    "def makeRod(size, width):\n",
    "    arr = np.zeros([size]*2)\n",
    "    arr[:, size//2-width//2 : size//2+width//2] = 1\n",
    "    return arr\n"
   ]
  },
  {
   "cell_type": "markdown",
   "id": "6d5f04ab",
   "metadata": {},
   "source": [
    "# 2D rotations\n",
    "### Single instance"
   ]
  },
  {
   "cell_type": "code",
   "execution_count": 3,
   "id": "92e0a3e9",
   "metadata": {},
   "outputs": [
    {
     "name": "stdout",
     "output_type": "stream",
     "text": [
      "2D array images\n"
     ]
    },
    {
     "data": {
      "image/png": "[encoded data removed]",
      "text/plain": [
       "<Figure size 432x288 with 1 Axes>"
      ]
     },
     "metadata": {
      "needs_background": "light"
     },
     "output_type": "display_data"
    },
    {
     "data": {
      "image/png": "[encoded data removed]",
      "text/plain": [
       "<Figure size 432x288 with 1 Axes>"
      ]
     },
     "metadata": {
      "needs_background": "light"
     },
     "output_type": "display_data"
    },
    {
     "data": {
      "image/png": "[encoded data removed]",
      "text/plain": [
       "<Figure size 432x288 with 1 Axes>"
      ]
     },
     "metadata": {
      "needs_background": "light"
     },
     "output_type": "display_data"
    },
    {
     "name": "stdout",
     "output_type": "stream",
     "text": [
      "2D array sums\n",
      "22.0 19.839877462249728 19.3598786504959\n"
     ]
    }
   ],
   "source": [
    "angle = 20\n",
    "size = 11\n",
    "fwhm = 3\n",
    "\n",
    "arr = makeRod(size, fwhm)\n",
    "roted_reshaped = r(arr, angle)\n",
    "roted = r(arr, angle, reshape=False)\n",
    "print('2D array images')\n",
    "for plot in [arr, roted_reshaped, roted]:\n",
    "    plt.imshow(plot)\n",
    "    plt.title(f'Sum = {np.sum(plot)}')\n",
    "    plt.show()\n",
    "\n",
    "print('2D array sums')\n",
    "print(np.sum(arr), np.sum(roted_reshaped), np.sum(roted))"
   ]
  },
  {
   "cell_type": "markdown",
   "id": "ebff4783",
   "metadata": {},
   "source": [
    "# 2D rotations\n",
    "### N-plot analysis"
   ]
  },
  {
   "cell_type": "code",
   "execution_count": 4,
   "id": "21da7634",
   "metadata": {},
   "outputs": [],
   "source": [
    "@np.vectorize\n",
    "def invariance_analysis_2d(angle=20, size=11, fwhm=3, func=makeRod):\n",
    "    arr = func(size, fwhm)\n",
    "    roted_reshaped = r(arr, angle)\n",
    "    roted = r(arr, angle, reshape=False)\n",
    "    return np.sum(arr), np.sum(roted_reshaped)/np.sum(arr), np.sum(roted)/np.sum(arr)"
   ]
  },
  {
   "cell_type": "code",
   "execution_count": 5,
   "id": "270b248c",
   "metadata": {},
   "outputs": [
    {
     "data": {
      "text/plain": [
       "[<matplotlib.lines.Line2D at 0x16c79132df0>]"
      ]
     },
     "execution_count": 5,
     "metadata": {},
     "output_type": "execute_result"
    },
    {
     "data": {
      "image/png": "[encoded data removed]",
      "text/plain": [
       "<Figure size 432x288 with 1 Axes>"
      ]
     },
     "metadata": {
      "needs_background": "light"
     },
     "output_type": "display_data"
    }
   ],
   "source": [
    "angle=np.arange(0,91,1)\n",
    "size=np.arange(11,1001,10)\n",
    "\n",
    "out=invariance_analysis_2d(size=size, fwhm=200, angle=45)\n",
    "plt.plot(size, out[2])\n",
    "plt.plot([50, 50], [min(out[2]), max(out[2])])\n",
    "#plt.plot(angle, invariance_analysis_2d(angle=angle, size=501)[1])"
   ]
  },
  {
   "cell_type": "code",
   "execution_count": 6,
   "id": "22695e0e",
   "metadata": {},
   "outputs": [
    {
     "name": "stdout",
     "output_type": "stream",
     "text": [
      "0\r"
     ]
    },
    {
     "ename": "ValueError",
     "evalue": "operands could not be broadcast together with shapes (19,) (10,) ",
     "output_type": "error",
     "traceback": [
      "\u001b[1;31m---------------------------------------------------------------\u001b[0m",
      "\u001b[1;31mValueError\u001b[0m                    Traceback (most recent call last)",
      "Input \u001b[1;32mIn [6]\u001b[0m, in \u001b[0;36m<cell line: 8>\u001b[1;34m()\u001b[0m\n\u001b[0;32m      9\u001b[0m \u001b[38;5;28mprint\u001b[39m(\u001b[38;5;28mstr\u001b[39m(i), end\u001b[38;5;241m=\u001b[39m\u001b[38;5;124m'\u001b[39m\u001b[38;5;130;01m\\r\u001b[39;00m\u001b[38;5;124m'\u001b[39m)\n\u001b[0;32m     10\u001b[0m out\u001b[38;5;241m=\u001b[39minvariance_analysis_2d(size\u001b[38;5;241m=\u001b[39msize[i], angle\u001b[38;5;241m=\u001b[39mangle, fwhm\u001b[38;5;241m=\u001b[39mfwhm)\n\u001b[1;32m---> 11\u001b[0m arr1\u001b[38;5;241m.\u001b[39mappend(\u001b[43mout\u001b[49m\u001b[43m[\u001b[49m\u001b[38;5;241;43m0\u001b[39;49m\u001b[43m]\u001b[49m\u001b[38;5;241;43m/\u001b[39;49m\u001b[43msize\u001b[49m)\n\u001b[0;32m     12\u001b[0m arr2\u001b[38;5;241m.\u001b[39mappend(out[\u001b[38;5;241m1\u001b[39m]\u001b[38;5;241m/\u001b[39msize)\n\u001b[0;32m     13\u001b[0m arr3\u001b[38;5;241m.\u001b[39mappend(out[\u001b[38;5;241m2\u001b[39m]\u001b[38;5;241m/\u001b[39msize)\n",
      "\u001b[1;31mValueError\u001b[0m: operands could not be broadcast together with shapes (19,) (10,) "
     ]
    }
   ],
   "source": [
    "angle = np.arange(0, 91, 5)\n",
    "size = np.arange(10, 1001, 100)\n",
    "fwhm=10\n",
    "\n",
    "arr1 = []\n",
    "arr2 = []\n",
    "arr3 = []\n",
    "for i in range(len(size)):\n",
    "    print(str(i), end='\\r')\n",
    "    out=invariance_analysis_2d(size=size[i], angle=angle, fwhm=fwhm)\n",
    "    arr1.append(out[0]/size)\n",
    "    arr2.append(out[1]/size)\n",
    "    arr3.append(out[2]/size)\n",
    "arr1\n",
    "'''for res in out:\n",
    "    plt.plot(angle, res)\n",
    "    plt.title(f'Sum for angle range {[min(angle), max(angle)]}')\n",
    "    plt.show()\n",
    "    print(f'Sum range is {round(min(res),2)} to {round(max(res),2)}')'''\n",
    "for i in [arr1, arr2, arr3]:\n",
    "    plt.imshow(i, extent=[min(angle), min(size), max(angle), max(size)], aspect='auto')\n",
    "    plt.show()"
   ]
  },
  {
   "cell_type": "code",
   "execution_count": null,
   "id": "1fa790c4",
   "metadata": {},
   "outputs": [],
   "source": [
    "angle = np.arange(0, 91, 5)\n",
    "fwhm = np.arange(10, 1001, 100)\n",
    "size=500\n",
    "\n",
    "arr1 = [0]*len(fwhm)\n",
    "arr2 = [0]*len(fwhm)\n",
    "arr3 = [0]*len(fwhm)\n",
    "for i in range(len(fwhm)):\n",
    "    print(str(i), end='\\r')\n",
    "    arr1[i] = invariance_analysis_2d(fwhm=fwhm[i], angle=angle, size=size)[0]\n",
    "    arr2[i] = invariance_analysis_2d(fwhm=fwhm[i], angle=angle, size=size)[1]\n",
    "    arr3[i] = invariance_analysis_2d(fwhm=fwhm[i], angle=angle, size=size)[2]\n",
    "arr1\n",
    "'''for res in out:\n",
    "    plt.plot(angle, res)\n",
    "    plt.title(f'Sum for angle range {[min(angle), max(angle)]}')\n",
    "    plt.show()\n",
    "    print(f'Sum range is {round(min(res),2)} to {round(max(res),2)}')'''\n",
    "for i in [arr1, arr2, arr3]:\n",
    "    plt.imshow(i, extent=[min(angle), min(fwhm), max(angle), max(fwhm)], aspect='auto')\n",
    "    plt.show()"
   ]
  },
  {
   "cell_type": "code",
   "execution_count": null,
   "id": "3346fa59",
   "metadata": {},
   "outputs": [],
   "source": []
  },
  {
   "cell_type": "code",
   "execution_count": 84,
   "id": "5d678573",
   "metadata": {},
   "outputs": [
    {
     "data": {
      "text/plain": [
       "array([[ 1,  2,  3],\n",
       "       [ 4,  5,  6],\n",
       "       [ 7,  8,  9],\n",
       "       [ 4,  5,  6],\n",
       "       [ 7,  8,  9],\n",
       "       [ 7,  8,  9],\n",
       "       [12, 13, 14]])"
      ]
     },
     "execution_count": 84,
     "metadata": {},
     "output_type": "execute_result"
    }
   ],
   "source": [
    "a = np.array([[1,2,3], [4,5,6], [7,8,9]])\n",
    "b = np.array([[4,5,6], [7,8,9], [7,8,9], [12, 13, 14]])\n",
    "both = np.concatenate((a,b), axis=0)\n",
    "both"
   ]
  },
  {
   "cell_type": "code",
   "execution_count": 8,
   "id": "33c71867",
   "metadata": {},
   "outputs": [
    {
     "data": {
      "text/plain": [
       "(array([[ 1,  2,  3],\n",
       "        [ 4,  5,  6],\n",
       "        [ 7,  8,  9],\n",
       "        [12, 13, 14]]),\n",
       " array([0, 1, 2, 1, 2, 2, 3], dtype=int64),\n",
       " array([1, 2, 3, 1], dtype=int64))"
      ]
     },
     "execution_count": 8,
     "metadata": {},
     "output_type": "execute_result"
    }
   ],
   "source": [
    "c = np.unique(both, axis=0, return_inverse=True, return_counts=True)\n",
    "c"
   ]
  },
  {
   "cell_type": "code",
   "execution_count": 9,
   "id": "53ae5228",
   "metadata": {},
   "outputs": [
    {
     "data": {
      "text/plain": [
       "array([[4, 5, 6],\n",
       "       [7, 8, 9]])"
      ]
     },
     "execution_count": 9,
     "metadata": {},
     "output_type": "execute_result"
    }
   ],
   "source": [
    "c[0][np.where(c[2]>1)]"
   ]
  },
  {
   "cell_type": "code",
   "execution_count": 10,
   "id": "122008b9",
   "metadata": {},
   "outputs": [
    {
     "data": {
      "text/plain": [
       "0"
      ]
     },
     "execution_count": 10,
     "metadata": {},
     "output_type": "execute_result"
    }
   ],
   "source": [
    "np.array([[],[]]).size"
   ]
  },
  {
   "cell_type": "code",
   "execution_count": 11,
   "id": "bb505ea3",
   "metadata": {},
   "outputs": [
    {
     "data": {
      "text/plain": [
       "(3,)"
      ]
     },
     "execution_count": 11,
     "metadata": {},
     "output_type": "execute_result"
    }
   ],
   "source": [
    "np.array([1,2,23]).shape"
   ]
  },
  {
   "cell_type": "code",
   "execution_count": 12,
   "id": "1679f08b",
   "metadata": {},
   "outputs": [],
   "source": [
    "from functools import reduce"
   ]
  },
  {
   "cell_type": "code",
   "execution_count": 13,
   "id": "e35c878e",
   "metadata": {},
   "outputs": [
    {
     "data": {
      "text/plain": [
       "array([ 28,  80, 162])"
      ]
     },
     "execution_count": 13,
     "metadata": {},
     "output_type": "execute_result"
    }
   ],
   "source": [
    "reduce(np.multiply, a)"
   ]
  },
  {
   "cell_type": "code",
   "execution_count": 44,
   "id": "f4e0b548",
   "metadata": {},
   "outputs": [
    {
     "data": {
      "text/plain": [
       "10.0"
      ]
     },
     "execution_count": 44,
     "metadata": {},
     "output_type": "execute_result"
    }
   ],
   "source": [
    "def makeGaussian(size, fwhm=3, center=None, amp=1):\n",
    "    \"\"\" Make a square gaussian kernel.\n",
    "\n",
    "    size is the length of a side of the square\n",
    "    fwhm is full-width-half-maximum, which\n",
    "    can be thought of as an effective radius.\n",
    "    \"\"\"\n",
    "\n",
    "    x = np.arange(0, size, 1, float)\n",
    "    y = x[:, np.newaxis]\n",
    "\n",
    "    if center is None:\n",
    "        x0 = y0 = size // 2\n",
    "    else:\n",
    "        x0 = center[0]\n",
    "        y0 = center[1]\n",
    "\n",
    "    return np.exp(-4*np.log(2) * ((x-x0)**2 + (y-y0)**2) / fwhm**2)\n",
    "\n",
    "a = makeGaussian(101, fwhm=20, amp=1)\n",
    "np.sum(a/np.sum(a)*10)"
   ]
  },
  {
   "cell_type": "code",
   "execution_count": 66,
   "id": "dd43815c",
   "metadata": {},
   "outputs": [
    {
     "data": {
      "text/plain": [
       "(-99.99999999999999,\n",
       " array([[-8.21937368e-10, -6.76036138e-09, -4.45421833e-08,\n",
       "         -2.35095053e-07, -9.93998848e-07, -3.36665546e-06,\n",
       "         -9.13443873e-06, -1.98534260e-05, -3.45668224e-05,\n",
       "         -4.82118567e-05, -5.38664873e-05, -4.82118567e-05,\n",
       "         -3.45668224e-05, -1.98534260e-05, -9.13443873e-06,\n",
       "         -3.36665546e-06, -9.93998848e-07, -2.35095053e-07,\n",
       "         -4.45421833e-08, -6.76036138e-09],\n",
       "        [-6.76036138e-09, -5.56033681e-08, -3.66355476e-07,\n",
       "         -1.93363579e-06, -8.17555167e-06, -2.76904402e-05,\n",
       "         -7.51299421e-05, -1.63292655e-04, -2.84309025e-04,\n",
       "         -3.96538212e-04, -4.43047043e-04, -3.96538212e-04,\n",
       "         -2.84309025e-04, -1.63292655e-04, -7.51299421e-05,\n",
       "         -2.76904402e-05, -8.17555167e-06, -1.93363579e-06,\n",
       "         -3.66355476e-07, -5.56033681e-08],\n",
       "        [-4.45421833e-08, -3.66355476e-07, -2.41381663e-06,\n",
       "         -1.27402006e-05, -5.38664873e-05, -1.82444783e-04,\n",
       "         -4.95010763e-04, -1.07589091e-03, -1.87323487e-03,\n",
       "         -2.61268247e-03, -2.91911652e-03, -2.61268247e-03,\n",
       "         -1.87323487e-03, -1.07589091e-03, -4.95010763e-04,\n",
       "         -1.82444783e-04, -5.38664873e-05, -1.27402006e-05,\n",
       "         -2.41381663e-06, -3.66355476e-07],\n",
       "        [-2.35095053e-07, -1.93363579e-06, -1.27402006e-05,\n",
       "         -6.72431817e-05, -2.84309025e-04, -9.62949336e-04,\n",
       "         -2.61268247e-03, -5.67858625e-03, -9.88699292e-03,\n",
       "         -1.37898208e-02, -1.54071894e-02, -1.37898208e-02,\n",
       "         -9.88699292e-03, -5.67858625e-03, -2.61268247e-03,\n",
       "         -9.62949336e-04, -2.84309025e-04, -6.72431817e-05,\n",
       "         -1.27402006e-05, -1.93363579e-06],\n",
       "        [-9.93998848e-07, -8.17555167e-06, -5.38664873e-05,\n",
       "         -2.84309025e-04, -1.20207907e-03, -4.07141928e-03,\n",
       "         -1.10466100e-02, -2.40094725e-02, -4.18029196e-02,\n",
       "         -5.83043573e-02, -6.51427085e-02, -5.83043573e-02,\n",
       "         -4.18029196e-02, -2.40094725e-02, -1.10466100e-02,\n",
       "         -4.07141928e-03, -1.20207907e-03, -2.84309025e-04,\n",
       "         -5.38664873e-05, -8.17555167e-06],\n",
       "        [-3.36665546e-06, -2.76904402e-05, -1.82444783e-04,\n",
       "         -9.62949336e-04, -4.07141928e-03, -1.37898208e-02,\n",
       "         -3.74146610e-02, -8.13196330e-02, -1.41585705e-01,\n",
       "         -1.97475765e-01, -2.20637132e-01, -1.97475765e-01,\n",
       "         -1.41585705e-01, -8.13196330e-02, -3.74146610e-02,\n",
       "         -1.37898208e-02, -4.07141928e-03, -9.62949336e-04,\n",
       "         -1.82444783e-04, -2.76904402e-05],\n",
       "        [-9.13443873e-06, -7.51299421e-05, -4.95010763e-04,\n",
       "         -2.61268247e-03, -1.10466100e-02, -3.74146610e-02,\n",
       "         -1.01513782e-01, -2.20637132e-01, -3.84151559e-01,\n",
       "         -5.35792954e-01, -5.98634577e-01, -5.35792954e-01,\n",
       "         -3.84151559e-01, -2.20637132e-01, -1.01513782e-01,\n",
       "         -3.74146610e-02, -1.10466100e-02, -2.61268247e-03,\n",
       "         -4.95010763e-04, -7.51299421e-05],\n",
       "        [-1.98534260e-05, -1.63292655e-04, -1.07589091e-03,\n",
       "         -5.67858625e-03, -2.40094725e-02, -8.13196330e-02,\n",
       "         -2.20637132e-01, -4.79548127e-01, -8.34941784e-01,\n",
       "         -1.16452977e+00, -1.30111413e+00, -1.16452977e+00,\n",
       "         -8.34941784e-01, -4.79548127e-01, -2.20637132e-01,\n",
       "         -8.13196330e-02, -2.40094725e-02, -5.67858625e-03,\n",
       "         -1.07589091e-03, -1.63292655e-04],\n",
       "        [-3.45668224e-05, -2.84309025e-04, -1.87323487e-03,\n",
       "         -9.88699292e-03, -4.18029196e-02, -1.41585705e-01,\n",
       "         -3.84151559e-01, -8.34941784e-01, -1.45371808e+00,\n",
       "         -2.02756409e+00, -2.26537128e+00, -2.02756409e+00,\n",
       "         -1.45371808e+00, -8.34941784e-01, -3.84151559e-01,\n",
       "         -1.41585705e-01, -4.18029196e-02, -9.88699292e-03,\n",
       "         -1.87323487e-03, -2.84309025e-04],\n",
       "        [-4.82118567e-05, -3.96538212e-04, -2.61268247e-03,\n",
       "         -1.37898208e-02, -5.83043573e-02, -1.97475765e-01,\n",
       "         -5.35792954e-01, -1.16452977e+00, -2.02756409e+00,\n",
       "         -2.82793217e+00, -3.15961224e+00, -2.82793217e+00,\n",
       "         -2.02756409e+00, -1.16452977e+00, -5.35792954e-01,\n",
       "         -1.97475765e-01, -5.83043573e-02, -1.37898208e-02,\n",
       "         -2.61268247e-03, -3.96538212e-04],\n",
       "        [-5.38664873e-05, -4.43047043e-04, -2.91911652e-03,\n",
       "         -1.54071894e-02, -6.51427085e-02, -2.20637132e-01,\n",
       "         -5.98634577e-01, -1.30111413e+00, -2.26537128e+00,\n",
       "         -3.15961224e+00, -3.53019411e+00, -3.15961224e+00,\n",
       "         -2.26537128e+00, -1.30111413e+00, -5.98634577e-01,\n",
       "         -2.20637132e-01, -6.51427085e-02, -1.54071894e-02,\n",
       "         -2.91911652e-03, -4.43047043e-04],\n",
       "        [-4.82118567e-05, -3.96538212e-04, -2.61268247e-03,\n",
       "         -1.37898208e-02, -5.83043573e-02, -1.97475765e-01,\n",
       "         -5.35792954e-01, -1.16452977e+00, -2.02756409e+00,\n",
       "         -2.82793217e+00, -3.15961224e+00, -2.82793217e+00,\n",
       "         -2.02756409e+00, -1.16452977e+00, -5.35792954e-01,\n",
       "         -1.97475765e-01, -5.83043573e-02, -1.37898208e-02,\n",
       "         -2.61268247e-03, -3.96538212e-04],\n",
       "        [-3.45668224e-05, -2.84309025e-04, -1.87323487e-03,\n",
       "         -9.88699292e-03, -4.18029196e-02, -1.41585705e-01,\n",
       "         -3.84151559e-01, -8.34941784e-01, -1.45371808e+00,\n",
       "         -2.02756409e+00, -2.26537128e+00, -2.02756409e+00,\n",
       "         -1.45371808e+00, -8.34941784e-01, -3.84151559e-01,\n",
       "         -1.41585705e-01, -4.18029196e-02, -9.88699292e-03,\n",
       "         -1.87323487e-03, -2.84309025e-04],\n",
       "        [-1.98534260e-05, -1.63292655e-04, -1.07589091e-03,\n",
       "         -5.67858625e-03, -2.40094725e-02, -8.13196330e-02,\n",
       "         -2.20637132e-01, -4.79548127e-01, -8.34941784e-01,\n",
       "         -1.16452977e+00, -1.30111413e+00, -1.16452977e+00,\n",
       "         -8.34941784e-01, -4.79548127e-01, -2.20637132e-01,\n",
       "         -8.13196330e-02, -2.40094725e-02, -5.67858625e-03,\n",
       "         -1.07589091e-03, -1.63292655e-04],\n",
       "        [-9.13443873e-06, -7.51299421e-05, -4.95010763e-04,\n",
       "         -2.61268247e-03, -1.10466100e-02, -3.74146610e-02,\n",
       "         -1.01513782e-01, -2.20637132e-01, -3.84151559e-01,\n",
       "         -5.35792954e-01, -5.98634577e-01, -5.35792954e-01,\n",
       "         -3.84151559e-01, -2.20637132e-01, -1.01513782e-01,\n",
       "         -3.74146610e-02, -1.10466100e-02, -2.61268247e-03,\n",
       "         -4.95010763e-04, -7.51299421e-05],\n",
       "        [-3.36665546e-06, -2.76904402e-05, -1.82444783e-04,\n",
       "         -9.62949336e-04, -4.07141928e-03, -1.37898208e-02,\n",
       "         -3.74146610e-02, -8.13196330e-02, -1.41585705e-01,\n",
       "         -1.97475765e-01, -2.20637132e-01, -1.97475765e-01,\n",
       "         -1.41585705e-01, -8.13196330e-02, -3.74146610e-02,\n",
       "         -1.37898208e-02, -4.07141928e-03, -9.62949336e-04,\n",
       "         -1.82444783e-04, -2.76904402e-05],\n",
       "        [-9.93998848e-07, -8.17555167e-06, -5.38664873e-05,\n",
       "         -2.84309025e-04, -1.20207907e-03, -4.07141928e-03,\n",
       "         -1.10466100e-02, -2.40094725e-02, -4.18029196e-02,\n",
       "         -5.83043573e-02, -6.51427085e-02, -5.83043573e-02,\n",
       "         -4.18029196e-02, -2.40094725e-02, -1.10466100e-02,\n",
       "         -4.07141928e-03, -1.20207907e-03, -2.84309025e-04,\n",
       "         -5.38664873e-05, -8.17555167e-06],\n",
       "        [-2.35095053e-07, -1.93363579e-06, -1.27402006e-05,\n",
       "         -6.72431817e-05, -2.84309025e-04, -9.62949336e-04,\n",
       "         -2.61268247e-03, -5.67858625e-03, -9.88699292e-03,\n",
       "         -1.37898208e-02, -1.54071894e-02, -1.37898208e-02,\n",
       "         -9.88699292e-03, -5.67858625e-03, -2.61268247e-03,\n",
       "         -9.62949336e-04, -2.84309025e-04, -6.72431817e-05,\n",
       "         -1.27402006e-05, -1.93363579e-06],\n",
       "        [-4.45421833e-08, -3.66355476e-07, -2.41381663e-06,\n",
       "         -1.27402006e-05, -5.38664873e-05, -1.82444783e-04,\n",
       "         -4.95010763e-04, -1.07589091e-03, -1.87323487e-03,\n",
       "         -2.61268247e-03, -2.91911652e-03, -2.61268247e-03,\n",
       "         -1.87323487e-03, -1.07589091e-03, -4.95010763e-04,\n",
       "         -1.82444783e-04, -5.38664873e-05, -1.27402006e-05,\n",
       "         -2.41381663e-06, -3.66355476e-07],\n",
       "        [-6.76036138e-09, -5.56033681e-08, -3.66355476e-07,\n",
       "         -1.93363579e-06, -8.17555167e-06, -2.76904402e-05,\n",
       "         -7.51299421e-05, -1.63292655e-04, -2.84309025e-04,\n",
       "         -3.96538212e-04, -4.43047043e-04, -3.96538212e-04,\n",
       "         -2.84309025e-04, -1.63292655e-04, -7.51299421e-05,\n",
       "         -2.76904402e-05, -8.17555167e-06, -1.93363579e-06,\n",
       "         -3.66355476e-07, -5.56033681e-08]]))"
      ]
     },
     "execution_count": 66,
     "metadata": {},
     "output_type": "execute_result"
    },
    {
     "data": {
      "image/png": "[encoded data removed]",
      "text/plain": [
       "<Figure size 432x288 with 2 Axes>"
      ]
     },
     "metadata": {
      "needs_background": "light"
     },
     "output_type": "display_data"
    }
   ],
   "source": [
    "def makeGaussian(size, fwhm=3, center=None, amp=1, norm=False):\n",
    "    def gaussian():\n",
    "        \"\"\"Note: Copied without modification from StackOverflow user giessel.\n",
    "        \n",
    "        Make a square gaussian kernel.\n",
    "\n",
    "        size is the length of a side of the square\n",
    "        fwhm is full-width-half-maximum, which\n",
    "        can be thought of as an effective radius.\n",
    "        \"\"\"\n",
    "        x = np.arange(0, size, 1, float)\n",
    "        y = x[:, np.newaxis]\n",
    "\n",
    "        if center is None:\n",
    "            x0 = y0 = size // 2\n",
    "        else:\n",
    "            x0 = center[0]\n",
    "            y0 = center[1]\n",
    "\n",
    "        return np.exp(-4*np.log(2) * ((x-x0)**2 + (y-y0)**2) / fwhm**2)\n",
    "    g = gaussian()\n",
    "    if norm: return amp*g/np.sum(g)\n",
    "    else: return g\n",
    "\n",
    "x = makeGaussian(20, fwhm=5, amp=-100, norm=True)\n",
    "plt.imshow(x)\n",
    "plt.colorbar()\n",
    "\n",
    "np.sum(x), x"
   ]
  },
  {
   "cell_type": "code",
   "execution_count": 57,
   "id": "24d265ba",
   "metadata": {},
   "outputs": [
    {
     "data": {
      "text/plain": [
       "<matplotlib.colorbar.Colorbar at 0x16c7b8b7d60>"
      ]
     },
     "execution_count": 57,
     "metadata": {},
     "output_type": "execute_result"
    },
    {
     "data": {
      "image/png": "[encoded data removed]",
      "text/plain": [
       "<Figure size 432x288 with 2 Axes>"
      ]
     },
     "metadata": {
      "needs_background": "light"
     },
     "output_type": "display_data"
    }
   ],
   "source": []
  },
  {
   "cell_type": "code",
   "execution_count": 67,
   "id": "d193f765",
   "metadata": {},
   "outputs": [
    {
     "data": {
      "text/plain": [
       "[]"
      ]
     },
     "execution_count": 67,
     "metadata": {},
     "output_type": "execute_result"
    }
   ],
   "source": [
    "[]*3"
   ]
  },
  {
   "cell_type": "code",
   "execution_count": 82,
   "id": "b95cba75",
   "metadata": {},
   "outputs": [
    {
     "data": {
      "text/plain": [
       "[True, True, True, False]"
      ]
     },
     "execution_count": 82,
     "metadata": {},
     "output_type": "execute_result"
    }
   ],
   "source": [
    "from collections.abc import Sequence\n",
    "list(map(lambda x: isinstance(x, Sequence), [[], [1], 'a', 1]))"
   ]
  },
  {
   "cell_type": "code",
   "execution_count": 95,
   "id": "fb35b1af",
   "metadata": {},
   "outputs": [
    {
     "data": {
      "text/plain": [
       "array([[ 3, 11],\n",
       "       [ 6,  7],\n",
       "       [ 9, 10]])"
      ]
     },
     "execution_count": 95,
     "metadata": {},
     "output_type": "execute_result"
    }
   ],
   "source": [
    "a = np.array([[[1,2],\n",
    "               [3,4],\n",
    "               [2,11]], \n",
    "              \n",
    "              [[4,5],\n",
    "               [5,6],\n",
    "               [6,7]],\n",
    "              \n",
    "              [[7,8],\n",
    "               [8,9],\n",
    "               [9,10]]])\n",
    "np.max(a, axis=1)"
   ]
  },
  {
   "cell_type": "code",
   "execution_count": null,
   "id": "40f21a33",
   "metadata": {},
   "outputs": [],
   "source": []
  }
 ],
 "metadata": {
  "kernelspec": {
   "display_name": "Python 3 (ipykernel)",
   "language": "python",
   "name": "python3"
  },
  "language_info": {
   "codemirror_mode": {
    "name": "ipython",
    "version": 3
   },
   "file_extension": ".py",
   "mimetype": "text/x-python",
   "name": "python",
   "nbconvert_exporter": "python",
   "pygments_lexer": "ipython3",
   "version": "3.9.12"
  }
 },
 "nbformat": 4,
 "nbformat_minor": 5
}
