{
 "cells": [
  {
   "cell_type": "code",
   "execution_count": 1,
   "id": "2ba23138",
   "metadata": {},
   "outputs": [
    {
     "name": "stderr",
     "output_type": "stream",
     "text": [
      "C:\\Users\\Peter\\miniconda3\\lib\\site-packages\\numpy\\_distributor_init.py:30: UserWarning: loaded more than 1 DLL from .libs:\n",
      "C:\\Users\\Peter\\miniconda3\\lib\\site-packages\\numpy\\.libs\\libopenblas.EL2C6PLE4ZYW3ECEVIV3OXXGRN2NRFM2.gfortran-win_amd64.dll\n",
      "C:\\Users\\Peter\\miniconda3\\lib\\site-packages\\numpy\\.libs\\libopenblas64__v0.3.21-gcc_10_3_0.dll\n",
      "  warnings.warn(\"loaded more than 1 DLL from .libs:\"\n",
      "C:\\Users\\Peter\\miniconda3\\lib\\site-packages\\scipy\\__init__.py:146: UserWarning: A NumPy version >=1.16.5 and <1.23.0 is required for this version of SciPy (detected version 1.24.4\n",
      "  warnings.warn(f\"A NumPy version >={np_minversion} and <{np_maxversion}\"\n"
     ]
    }
   ],
   "source": [
    "import numpy as np\n",
    "import matplotlib.pyplot as plt\n",
    "import scipy"
   ]
  },
  {
   "cell_type": "code",
   "execution_count": 2,
   "id": "762fa956",
   "metadata": {},
   "outputs": [
    {
     "data": {
      "text/plain": [
       "1.0"
      ]
     },
     "execution_count": 2,
     "metadata": {},
     "output_type": "execute_result"
    }
   ],
   "source": [
    "isotopes = {\"C\": ([1], [0.0111]), \n",
    "            \"H\": ([1], [0.00015]),\n",
    "            \"N\": ([1], [0.0036]),\n",
    "            \"O\": ([1, 2], [0.0004, 0.002])}\n",
    "abundant_masses = {\"C\": 12, \n",
    "                   \"H\": 1,\n",
    "                   \"N\": 14,\n",
    "                   \"O\": 16}\n",
    "\n",
    "formula = ([\"C\", \"H\", \"O\", \"N\"], [7, 15, 2, 1])\n",
    "\n",
    "(2*formula[1][0]+2-formula[1][1]+formula[1][3])/2 # check formula valid by IHD"
   ]
  },
  {
   "cell_type": "code",
   "execution_count": 3,
   "id": "48911ad4",
   "metadata": {},
   "outputs": [
    {
     "data": {
      "text/plain": [
       "145"
      ]
     },
     "execution_count": 3,
     "metadata": {},
     "output_type": "execute_result"
    }
   ],
   "source": [
    "def base_mass(formula):\n",
    "    return sum([abundant_masses[i]*formula[1][ind] for ind, i in enumerate(formula[0])])\n",
    "\n",
    "abundant_mass = base_mass(formula)\n",
    "abundant_mass"
   ]
  },
  {
   "cell_type": "code",
   "execution_count": 9,
   "id": "25c07fbb",
   "metadata": {},
   "outputs": [
    {
     "data": {
      "text/plain": [
       "0.0036001600000207614"
      ]
     },
     "execution_count": 9,
     "metadata": {},
     "output_type": "execute_result"
    }
   ],
   "source": [
    "def relative_mass_abundance(formula, mass_shift):\n",
    "    return np.sum([isotopes[i][1][j]**formula[1][ind] \n",
    "                   for ind, i in enumerate(formula[0])  \n",
    "                   for j in range(len(isotopes[i][0]))\n",
    "                   if isotopes[i][0][j]==mass_shift])\n",
    "mass_1 = relative_mass_abundance(formula, 1)\n",
    "mass_1"
   ]
  },
  {
   "cell_type": "code",
   "execution_count": null,
   "id": "0623ffed",
   "metadata": {},
   "outputs": [],
   "source": []
  }
 ],
 "metadata": {
  "kernelspec": {
   "display_name": "Python 3 (ipykernel)",
   "language": "python",
   "name": "python3"
  },
  "language_info": {
   "codemirror_mode": {
    "name": "ipython",
    "version": 3
   },
   "file_extension": ".py",
   "mimetype": "text/x-python",
   "name": "python",
   "nbconvert_exporter": "python",
   "pygments_lexer": "ipython3",
   "version": "3.8.19"
  }
 },
 "nbformat": 4,
 "nbformat_minor": 5
}
