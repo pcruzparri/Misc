{
 "cells": [
  {
   "cell_type": "code",
   "execution_count": 19,
   "id": "e44e7923-b8b0-43b7-b49f-89f5df80bda3",
   "metadata": {},
   "outputs": [
    {
     "ename": "ModuleNotFoundError",
     "evalue": "No module named 'scipy'",
     "output_type": "error",
     "traceback": [
      "\u001b[1;31m---------------------------------------------------------------------------\u001b[0m",
      "\u001b[1;31mModuleNotFoundError\u001b[0m                       Traceback (most recent call last)",
      "Cell \u001b[1;32mIn[19], line 4\u001b[0m\n\u001b[0;32m      2\u001b[0m \u001b[38;5;28;01mimport\u001b[39;00m \u001b[38;5;21;01mmatplotlib\u001b[39;00m\u001b[38;5;21;01m.\u001b[39;00m\u001b[38;5;21;01mpyplot\u001b[39;00m \u001b[38;5;28;01mas\u001b[39;00m \u001b[38;5;21;01mplt\u001b[39;00m\n\u001b[0;32m      3\u001b[0m \u001b[38;5;28;01mimport\u001b[39;00m \u001b[38;5;21;01mrandom\u001b[39;00m\n\u001b[1;32m----> 4\u001b[0m \u001b[38;5;28;01mimport\u001b[39;00m \u001b[38;5;21;01mscipy\u001b[39;00m\n",
      "\u001b[1;31mModuleNotFoundError\u001b[0m: No module named 'scipy'"
     ]
    }
   ],
   "source": [
    "import numpy as np\n",
    "import matplotlib.pyplot as plt\n",
    "import random"
   ]
  },
  {
   "cell_type": "code",
   "execution_count": 18,
   "id": "0c6806f2-84d4-4c45-b07e-4ecd77c3135a",
   "metadata": {},
   "outputs": [
    {
     "data": {
      "text/plain": [
       "array([[1.35838245, 0.26876018, 0.18666873, 0.17760656, 0.28362759,\n",
       "        0.17760226, 0.31360892, 0.26152787, 0.18039176, 0.57928143],\n",
       "       [0.38892872, 0.23147185, 0.21776724, 0.26285617, 0.41429501,\n",
       "        0.58052123, 0.21681123, 0.18030812, 0.30287902, 0.24144159],\n",
       "       [0.36327755, 0.23805945, 0.55423438, 0.4698595 , 0.1247203 ,\n",
       "        0.26602868, 0.38163908, 0.38169202, 0.73159068, 0.27307527],\n",
       "       [0.6009621 , 0.47613875, 0.42238322, 0.41572908, 0.51121339,\n",
       "        0.25002428, 0.19690201, 0.49959435, 0.5221625 , 0.39228682],\n",
       "       [0.85419016, 0.50178134, 0.66552335, 0.1332563 , 0.25288185,\n",
       "        0.37517528, 0.36373537, 0.31419714, 0.34275769, 0.23821745],\n",
       "       [0.33999448, 0.44797939, 0.7107523 , 0.4069847 , 0.5720256 ,\n",
       "        0.21909666, 0.27880707, 0.25347298, 0.57292941, 0.35530196],\n",
       "       [0.1639027 , 0.34221689, 0.3834119 , 0.15173351, 0.23896414,\n",
       "        0.43019011, 0.55000438, 0.32263108, 0.54508357, 0.1674541 ],\n",
       "       [0.5352255 , 0.60760163, 0.31484555, 0.23445591, 0.68229929,\n",
       "        0.20720805, 0.38169062, 0.23050439, 0.7075489 , 0.2130992 ],\n",
       "       [0.28354089, 0.48459278, 0.73116816, 0.68330915, 0.36026455,\n",
       "        0.26162279, 0.46444819, 0.59894854, 0.29118119, 0.43538788],\n",
       "       [0.1587195 , 0.58289982, 0.25238146, 0.53782105, 0.27406233,\n",
       "        0.30309852, 0.37409472, 0.25274212, 0.60708967, 0.40183752]])"
      ]
     },
     "execution_count": 18,
     "metadata": {},
     "output_type": "execute_result"
    }
   ],
   "source": [
    "x_range = 10\n",
    "y_range = 10\n",
    "\n",
    "data = np.zeros((x_range, y_range))\n",
    "for i in range(x_range):\n",
    "    for j in range(y_range):\n",
    "        data[i,j] = np.random.lognormal(-1, 0.5)\n",
    "data"
   ]
  },
  {
   "cell_type": "code",
   "execution_count": null,
   "id": "cd865dbf-f83b-415f-8df3-89f363bbf552",
   "metadata": {},
   "outputs": [],
   "source": []
  }
 ],
 "metadata": {
  "kernelspec": {
   "display_name": "pyms_kernel",
   "language": "python",
   "name": "pyms_kernel"
  },
  "language_info": {
   "codemirror_mode": {
    "name": "ipython",
    "version": 3
   },
   "file_extension": ".py",
   "mimetype": "text/x-python",
   "name": "python",
   "nbconvert_exporter": "python",
   "pygments_lexer": "ipython3",
   "version": "3.11.9"
  }
 },
 "nbformat": 4,
 "nbformat_minor": 5
}
