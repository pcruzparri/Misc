{
 "cells": [
  {
   "cell_type": "code",
   "execution_count": 99,
   "id": "4a2c9dd5-64f8-4166-bab7-079a72b54c36",
   "metadata": {},
   "outputs": [],
   "source": [
    "import numpy as np\n",
    "from pyteomics import mass\n",
    "import re\n",
    "import matplotlib.pyplot as plt"
   ]
  },
  {
   "cell_type": "code",
   "execution_count": 37,
   "id": "133c4b5f-f918-4d08-9f3f-e2a9265c41ea",
   "metadata": {},
   "outputs": [],
   "source": [
    "aa3 = [\"Ala\", \"Arg\", \"Asn\", \"Asp\", \"Cys\", \"Gln\", \"Glu\", \"Gly\", \"His\", \"Ile\", \"Leu\", \"Lys\", \"Met\", \"Phe\", \"Pro\", \"Ser\", \"Thr\", \"Trp\", \"Tyr\", \"Val\"]\n",
    "aa1 = [\"A\", \"R\", \"N\", \"D\", \"C\", \"Q\", \"E\", \"G\", \"H\", \"I\", \"L\", \"K\", \"M\", \"F\", \"P\", \"S\", \"T\", \"W\", \"Y\", \"V\"]\n",
    "masses = [89.09, 174.20, 132.12, 133.10, 121.16, 146.15, 147.13, 75.07, 155.16, 131.18, 131.18, 146.19, 149.21, 165.19, 115.13, 105.09, 119.12, 204.23, 181.19, 117.15]\n",
    "aa1_to_m = dict(zip(aa1, masses))\n",
    "\n",
    "mod_masses = np.random.uniform(50,150,5)\n",
    "mod_ids = [\"[X]\", \"[Z]\", \"[O]\", \"[U]\", \"[J]\"]\n",
    "mods_to_m = dict(zip(mod_ids, mod_masses))\n",
    "\n",
    "#aa1_to_m"
   ]
  },
  {
   "cell_type": "code",
   "execution_count": 131,
   "id": "aae52269-7e7a-4808-a7f2-906154e46a7e",
   "metadata": {},
   "outputs": [],
   "source": [
    "def fragments_mass(peptide, types=('b', 'y')): # adapted from pyteomics tutorials\n",
    "    \"\"\"\n",
    "    The function generates all possible m/z for fragments of types\n",
    "    `types` and of charges from 1 to `maxharge`.\n",
    "    \"\"\"\n",
    "    \n",
    "    for i in range(1, len(peptide)):\n",
    "        for ion_type in types:\n",
    "            if ion_type[0] in 'abc':\n",
    "                mods_present = re.findall(\"\\[\\w*\\]\", peptide[:i])\n",
    "                if mods_present:\n",
    "                    mods_mass = sum([mods_to_m[re.sub('\\[|\\]', '', i)] for i in mods_present])\n",
    "                    peptide = re.sub('\\[\\w*\\]', '', peptide)\n",
    "                    if ion_type[0] in 'abc':\n",
    "                        yield mass.fast_mass(\n",
    "                                peptide[:i], ion_type=ion_type, charge=1) + mods_mass\n",
    "                else:\n",
    "                    yield mass.fast_mass(\n",
    "                        peptide[:i], ion_type=ion_type, charge=1)\n",
    "            else:\n",
    "                if ion_type[0] in 'abc':\n",
    "                    yield mass.fast_mass(\n",
    "                            peptide[:i], ion_type=ion_type, charge=1)\n",
    "                else:\n",
    "                    yield mass.fast_mass(\n",
    "                        peptide[i:], ion_type=ion_type, charge=1)\n",
    "            "
   ]
  },
  {
   "cell_type": "code",
   "execution_count": 132,
   "id": "a0b24322-77ad-4a98-b2f4-55cb733635ce",
   "metadata": {},
   "outputs": [
    {
     "data": {
      "text/plain": [
       "('QKMHIKQSATRMGFE', 'QK[Z]M[O]HIKQSA[O]TRMGFE')"
      ]
     },
     "execution_count": 132,
     "metadata": {},
     "output_type": "execute_result"
    }
   ],
   "source": [
    "np.random.seed(1)\n",
    "base_seq = list(np.random.choice(aa1, 15))\n",
    "full_seq = base_seq.copy()\n",
    "\n",
    "n_mods = 3\n",
    "mod_pos = np.random.randint(0, len(base_seq)-1, n_mods)\n",
    "mod_sel = np.random.randint(0, len(mod_ids)-1, n_mods)\n",
    "for i in range(n_mods):\n",
    "    full_seq.insert(mod_pos[i], mod_ids[mod_sel[i]])\n",
    "\n",
    "''.join(base_seq), ''.join(full_seq)"
   ]
  },
  {
   "cell_type": "code",
   "execution_count": 133,
   "id": "250f1b24-3d20-42fe-81ad-fc7b89b6c3b3",
   "metadata": {},
   "outputs": [
    {
     "name": "stdout",
     "output_type": "stream",
     "text": [
      "QK[Z]M[O]HIKQSA[O]TRMGFE\n",
      "QK[Z]M[O]HIKQSA[O]TRMGFE\n",
      "QK[Z]M[O]HIKQSA[O]TRMGFE\n",
      "QK[Z]M[O]HIKQSA[O]TRMGFE\n",
      "QK[Z]M[O]HIKQSA[O]TRMGFE\n",
      "QK[Z]M[O]HIKQSA[O]TRMGFE\n",
      "QK[Z]M[O]HIKQSA[O]TRMGFE\n",
      "QK[Z]M[O]HIKQSA[O]TRMGFE\n",
      "QK[Z]M[O]HIKQSA[O]TRMGFE\n",
      "QK[Z]M[O]HIKQSA[O]TRMGFE\n"
     ]
    },
    {
     "ename": "KeyError",
     "evalue": "'Z'",
     "output_type": "error",
     "traceback": [
      "\u001b[1;31m---------------------------------------------------------------------------\u001b[0m",
      "\u001b[1;31mKeyError\u001b[0m                                  Traceback (most recent call last)",
      "Cell \u001b[1;32mIn[133], line 4\u001b[0m\n\u001b[0;32m      2\u001b[0m [m\u001b[38;5;241m.\u001b[39mspan() \u001b[38;5;28;01mfor\u001b[39;00m m \u001b[38;5;129;01min\u001b[39;00m re\u001b[38;5;241m.\u001b[39mfinditer(\u001b[38;5;124m\"\u001b[39m\u001b[38;5;124m\\\u001b[39m\u001b[38;5;124m[\u001b[39m\u001b[38;5;124m\\\u001b[39m\u001b[38;5;124mw*\u001b[39m\u001b[38;5;124m\\\u001b[39m\u001b[38;5;124m]\u001b[39m\u001b[38;5;124m\"\u001b[39m, \u001b[38;5;124m'\u001b[39m\u001b[38;5;124m'\u001b[39m\u001b[38;5;241m.\u001b[39mjoin(full_seq))]\n\u001b[0;32m      3\u001b[0m re\u001b[38;5;241m.\u001b[39mfindall(\u001b[38;5;124m\"\u001b[39m\u001b[38;5;124m\\\u001b[39m\u001b[38;5;124mw\u001b[39m\u001b[38;5;124m\\\u001b[39m\u001b[38;5;124m[\u001b[39m\u001b[38;5;124m\\\u001b[39m\u001b[38;5;124mw*\u001b[39m\u001b[38;5;124m\\\u001b[39m\u001b[38;5;124m]\u001b[39m\u001b[38;5;124m\"\u001b[39m, \u001b[38;5;124m'\u001b[39m\u001b[38;5;124m'\u001b[39m\u001b[38;5;241m.\u001b[39mjoin(full_seq)), re\u001b[38;5;241m.\u001b[39msub(\u001b[38;5;124m\"\u001b[39m\u001b[38;5;124m\\\u001b[39m\u001b[38;5;124mw\u001b[39m\u001b[38;5;124m\\\u001b[39m\u001b[38;5;124m[\u001b[39m\u001b[38;5;124m\\\u001b[39m\u001b[38;5;124mw*\u001b[39m\u001b[38;5;124m\\\u001b[39m\u001b[38;5;124m]\u001b[39m\u001b[38;5;124m\"\u001b[39m, \u001b[38;5;124m'\u001b[39m\u001b[38;5;124m'\u001b[39m, \u001b[38;5;124m'\u001b[39m\u001b[38;5;124m'\u001b[39m\u001b[38;5;241m.\u001b[39mjoin(full_seq))\n\u001b[1;32m----> 4\u001b[0m x\u001b[38;5;241m=\u001b[39mfragments_mass(\u001b[38;5;124m'\u001b[39m\u001b[38;5;124m'\u001b[39m\u001b[38;5;241m.\u001b[39mjoin(full_seq))\n\u001b[0;32m      5\u001b[0m x\n",
      "Cell \u001b[1;32mIn[131], line 13\u001b[0m, in \u001b[0;36mfragments_mass\u001b[1;34m(peptide, types)\u001b[0m\n\u001b[0;32m     11\u001b[0m \u001b[38;5;28;01mif\u001b[39;00m mods_present:\n\u001b[0;32m     12\u001b[0m     \u001b[38;5;28mprint\u001b[39m(peptide)\n\u001b[1;32m---> 13\u001b[0m     mods_mass \u001b[38;5;241m=\u001b[39m \u001b[38;5;28msum\u001b[39m([mods_to_m[re\u001b[38;5;241m.\u001b[39msub(\u001b[38;5;124m'\u001b[39m\u001b[38;5;124m\\\u001b[39m\u001b[38;5;124m[|\u001b[39m\u001b[38;5;124m\\\u001b[39m\u001b[38;5;124m]\u001b[39m\u001b[38;5;124m'\u001b[39m, \u001b[38;5;124m'\u001b[39m\u001b[38;5;124m'\u001b[39m, i)] \u001b[38;5;28;01mfor\u001b[39;00m i \u001b[38;5;129;01min\u001b[39;00m mods_present])\n\u001b[0;32m     14\u001b[0m     peptide \u001b[38;5;241m=\u001b[39m re\u001b[38;5;241m.\u001b[39msub(\u001b[38;5;124m'\u001b[39m\u001b[38;5;124m\\\u001b[39m\u001b[38;5;124m[\u001b[39m\u001b[38;5;124m\\\u001b[39m\u001b[38;5;124mw*\u001b[39m\u001b[38;5;124m\\\u001b[39m\u001b[38;5;124m]\u001b[39m\u001b[38;5;124m'\u001b[39m, \u001b[38;5;124m'\u001b[39m\u001b[38;5;124m'\u001b[39m, peptide)\n\u001b[0;32m     15\u001b[0m     \u001b[38;5;28mprint\u001b[39m(\u001b[38;5;124m'\u001b[39m\u001b[38;5;124m    \u001b[39m\u001b[38;5;124m'\u001b[39m\u001b[38;5;241m+\u001b[39mpeptide)\n",
      "Cell \u001b[1;32mIn[131], line 13\u001b[0m, in \u001b[0;36m<listcomp>\u001b[1;34m(.0)\u001b[0m\n\u001b[0;32m     11\u001b[0m \u001b[38;5;28;01mif\u001b[39;00m mods_present:\n\u001b[0;32m     12\u001b[0m     \u001b[38;5;28mprint\u001b[39m(peptide)\n\u001b[1;32m---> 13\u001b[0m     mods_mass \u001b[38;5;241m=\u001b[39m \u001b[38;5;28msum\u001b[39m([mods_to_m[re\u001b[38;5;241m.\u001b[39msub(\u001b[38;5;124m'\u001b[39m\u001b[38;5;124m\\\u001b[39m\u001b[38;5;124m[|\u001b[39m\u001b[38;5;124m\\\u001b[39m\u001b[38;5;124m]\u001b[39m\u001b[38;5;124m'\u001b[39m, \u001b[38;5;124m'\u001b[39m\u001b[38;5;124m'\u001b[39m, i)] \u001b[38;5;28;01mfor\u001b[39;00m i \u001b[38;5;129;01min\u001b[39;00m mods_present])\n\u001b[0;32m     14\u001b[0m     peptide \u001b[38;5;241m=\u001b[39m re\u001b[38;5;241m.\u001b[39msub(\u001b[38;5;124m'\u001b[39m\u001b[38;5;124m\\\u001b[39m\u001b[38;5;124m[\u001b[39m\u001b[38;5;124m\\\u001b[39m\u001b[38;5;124mw*\u001b[39m\u001b[38;5;124m\\\u001b[39m\u001b[38;5;124m]\u001b[39m\u001b[38;5;124m'\u001b[39m, \u001b[38;5;124m'\u001b[39m\u001b[38;5;124m'\u001b[39m, peptide)\n\u001b[0;32m     15\u001b[0m     \u001b[38;5;28mprint\u001b[39m(\u001b[38;5;124m'\u001b[39m\u001b[38;5;124m    \u001b[39m\u001b[38;5;124m'\u001b[39m\u001b[38;5;241m+\u001b[39mpeptide)\n",
      "\u001b[1;31mKeyError\u001b[0m: 'Z'"
     ]
    }
   ],
   "source": [
    "re.search(\"\\[\\w*\\]\", ''.join(full_seq))\n",
    "[m.span() for m in re.finditer(\"\\[\\w*\\]\", ''.join(full_seq))]\n",
    "re.findall(\"\\w\\[\\w*\\]\", ''.join(full_seq)), re.sub(\"\\w\\[\\w*\\]\", '', ''.join(full_seq))\n",
    "x=fragments_mass(''.join(full_seq))\n",
    "x"
   ]
  },
  {
   "cell_type": "code",
   "execution_count": 118,
   "id": "495a2c35-9c78-46c9-83af-3bd20cebf259",
   "metadata": {},
   "outputs": [
    {
     "ename": "TypeError",
     "evalue": "'NoneType' object is not iterable",
     "output_type": "error",
     "traceback": [
      "\u001b[1;31m---------------------------------------------------------------------------\u001b[0m",
      "\u001b[1;31mTypeError\u001b[0m                                 Traceback (most recent call last)",
      "Cell \u001b[1;32mIn[118], line 1\u001b[0m\n\u001b[1;32m----> 1\u001b[0m base_frags \u001b[38;5;241m=\u001b[39m [i \u001b[38;5;28;01mfor\u001b[39;00m i \u001b[38;5;129;01min\u001b[39;00m fragments_mass(\u001b[38;5;124m'\u001b[39m\u001b[38;5;124m'\u001b[39m\u001b[38;5;241m.\u001b[39mjoin(base_seq))]\n\u001b[0;32m      2\u001b[0m full_frags \u001b[38;5;241m=\u001b[39m [i \u001b[38;5;28;01mfor\u001b[39;00m i \u001b[38;5;129;01min\u001b[39;00m fragments_mass(\u001b[38;5;124m'\u001b[39m\u001b[38;5;124m'\u001b[39m\u001b[38;5;241m.\u001b[39mjoin(full_seq))]\n",
      "\u001b[1;31mTypeError\u001b[0m: 'NoneType' object is not iterable"
     ]
    }
   ],
   "source": [
    "base_frags = [i for i in fragments_mass(''.join(base_seq))]\n",
    "full_frags = [i for i in fragments_mass(''.join(full_seq))]"
   ]
  },
  {
   "cell_type": "code",
   "execution_count": 103,
   "id": "a2accd7b-6b39-4365-8c1a-60db60e9dfdc",
   "metadata": {},
   "outputs": [
    {
     "data": {
      "image/png": "[encoded data removed]",
      "text/plain": [
       "<Figure size 640x480 with 1 Axes>"
      ]
     },
     "metadata": {},
     "output_type": "display_data"
    }
   ],
   "source": [
    "for i in base_frags:\n",
    "    plt.axvline(i, c='k')\n",
    "\n",
    "for i in full_frags:\n",
    "    plt.axvline(i, c='b')"
   ]
  },
  {
   "cell_type": "code",
   "execution_count": null,
   "id": "81cf4818-8fc3-4164-b77a-4530f715d166",
   "metadata": {},
   "outputs": [],
   "source": []
  }
 ],
 "metadata": {
  "kernelspec": {
   "display_name": "pyms_kernel",
   "language": "python",
   "name": "pyms_kernel"
  },
  "language_info": {
   "codemirror_mode": {
    "name": "ipython",
    "version": 3
   },
   "file_extension": ".py",
   "mimetype": "text/x-python",
   "name": "python",
   "nbconvert_exporter": "python",
   "pygments_lexer": "ipython3",
   "version": "3.11.9"
  }
 },
 "nbformat": 4,
 "nbformat_minor": 5
}
