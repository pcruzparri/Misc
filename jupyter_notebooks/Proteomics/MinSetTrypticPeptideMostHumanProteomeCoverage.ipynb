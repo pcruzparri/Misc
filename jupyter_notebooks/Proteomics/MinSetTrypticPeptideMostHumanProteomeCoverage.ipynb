{
 "cells": [
  {
   "cell_type": "markdown",
   "id": "783dfef0-3fa4-494e-8140-2337464552d8",
   "metadata": {},
   "source": [
    "## Imports"
   ]
  },
  {
   "cell_type": "code",
   "execution_count": 89,
   "id": "41afc356-79c1-4f18-867f-ed408b5b57b5",
   "metadata": {},
   "outputs": [],
   "source": [
    "import re \n",
    "from pyteomics import fasta, parser\n",
    "import gzip\n",
    "import matplotlib.pyplot as plt\n",
    "import numpy as np\n",
    "from collections import defaultdict, Counter\n",
    "from toolz import sliding_window, get_in, interpose\n",
    "from itertools import combinations, starmap\n",
    "from functools import partial\n",
    "import scipy\n",
    "from scipy.cluster.hierarchy import dendrogram, linkage\n",
    "from Bio.Align import substitution_matrices\n",
    "import zlib\n",
    "from timeit import default_timer as timer\n",
    "import sklearn\n"
   ]
  },
  {
   "cell_type": "markdown",
   "id": "34d6113d-6ca0-4241-8615-b8beb90b209a",
   "metadata": {},
   "source": [
    "## General purpose functions and variables"
   ]
  },
  {
   "cell_type": "code",
   "execution_count": 16,
   "id": "e9d5a3ba-da0b-40ca-bb5a-a372c1805b63",
   "metadata": {},
   "outputs": [],
   "source": [
    "aa_list = ['A', 'R', 'N', 'D', 'C', 'Q', 'E', 'G', 'H', 'I', 'L', 'K', 'M', 'F', 'P', 'S', 'T', 'W', 'Y', 'V']\n",
    "\n",
    "blosum62 = substitution_matrices.load('blosum62') \n",
    "bargap = 0.3\n",
    "\n",
    "aa_encodings = dict([(aa, i) for i, aa in enumerate(aa_list)])\n",
    "\n",
    "def encode_sequence(sequence):\n",
    "    return [aa_encodings[i] for i in sequence]\n",
    "\n",
    "def decode_sequence(encoded_sequence):\n",
    "    return ''.join([aa_list[i] for i in encoded_sequence])\n",
    "\n",
    "def alignment_score(s1, s2, substitution_matrix=None):\n",
    "    return sum(map(partial(get_in, coll=substitution_matrix), zip(s1, s2)))\n",
    "\n",
    "def similarity_dict(sequences, substitution_matrix):\n",
    "    pairwise_combs = combinations(sequences, 2)\n",
    "    sim_dict = defaultdict(set)\n",
    "    \n",
    "    for i in pairwise_combs:\n",
    "        sim_dict[alignment_score(*i, substitution_matrix)].update(i)\n",
    "        \n",
    "    return sim_dict"
   ]
  },
  {
   "cell_type": "markdown",
   "id": "55c09e85-d793-4332-9e1c-56e2d340a91a",
   "metadata": {},
   "source": [
    "## Open Fasta and extract the unique tryptic peptides\n",
    "## ONLY RUN FOR NEW FASTA FILE"
   ]
  },
  {
   "cell_type": "code",
   "execution_count": 3,
   "id": "b77003ad-6eff-4787-950a-017b20190f43",
   "metadata": {},
   "outputs": [
    {
     "name": "stdout",
     "output_type": "stream",
     "text": [
      "Done reading unique tryptic peptides in 13.709 seconds.\n",
      "Done reading protein sequences in 2.471 seconds.\n"
     ]
    }
   ],
   "source": [
    "dbpath = r'C:\\Users\\student\\Desktop/uniprotkb_Human_2024_08_16.fasta.gz'\n",
    "peptides_path = r'unique_uniprot_human_tryptic_peptides.txt'\n",
    "protein_sequences_path = r'unique_uniprot_human_protein_sequences.txt'\n",
    "\n",
    "new_fasta = False\n",
    "\n",
    "if new_fasta:\n",
    "    unique_peptides = set()\n",
    "    sequences = []\n",
    "    \n",
    "    t1 = timer()\n",
    "    with gzip.open(dbpath, mode='rt') as gzfile:\n",
    "        for description, sequence in fasta.FASTA(gzfile):\n",
    "            sequences.append(sequence)\n",
    "            new_peptides = parser.cleave(sequence, 'trypsin')\n",
    "            unique_peptides.update(new_peptides)\n",
    "    t2 = timer()\n",
    "    print(f'Done reading fasta in {t2-t1:.3f} seconds.')\n",
    "    \n",
    "    t1 = timer()\n",
    "    with open(peptides_path, 'w') as tp:\n",
    "        tp.writelines(interpose('\\n', unique_peptides))\n",
    "    t2 = timer()\n",
    "    print(f'Done writing unique tryptic peptides in {t2-t1:.3f} seconds.')\n",
    "    \n",
    "    t1 = timer()\n",
    "    with open(protein_sequences_path, 'w') as ps:\n",
    "        for i in list(sequences):\n",
    "            ps.writelines(interpose('\\n', x))\n",
    "    t2 = timer()\n",
    "    print(f'Done writing protein sequences in {t2-t1:.3f} seconds.')\n",
    "\n",
    "else:\n",
    "    t1 = timer()\n",
    "    unique_peptides = [i.strip() for i in open(peptides_path).readlines()]\n",
    "    t2 = timer()\n",
    "    print(f'Done reading unique tryptic peptides in {t2-t1:.3f} seconds.')\n",
    "\n",
    "    t1 = timer()\n",
    "    sequences = [i.strip() for i in open(protein_sequences_path).readlines()]\n",
    "    t2 = timer()\n",
    "    print(f'Done reading protein sequences in {t2-t1:.3f} seconds.')"
   ]
  },
  {
   "cell_type": "code",
   "execution_count": 4,
   "id": "09eda2e3-d9fa-4574-93f1-d5cd363dea27",
   "metadata": {},
   "outputs": [
    {
     "data": {
      "text/plain": [
       "(12403543, 40604987)"
      ]
     },
     "execution_count": 4,
     "metadata": {},
     "output_type": "execute_result"
    }
   ],
   "source": [
    "len(sequences), len(unique_peptides)"
   ]
  },
  {
   "cell_type": "code",
   "execution_count": 5,
   "id": "9960e833-10e9-46f6-bfec-656ff745adde",
   "metadata": {},
   "outputs": [
    {
     "data": {
      "text/plain": [
       "(6509, 1)"
      ]
     },
     "execution_count": 5,
     "metadata": {},
     "output_type": "execute_result"
    }
   ],
   "source": [
    "peptide_sizes = [len(i) for i in unique_peptides]\n",
    "max(peptide_sizes), min(peptide_sizes)"
   ]
  },
  {
   "cell_type": "markdown",
   "id": "b2b39828-41ce-43ee-8612-709fe628f618",
   "metadata": {},
   "source": [
    "## Filter out peptides with unnatural aminoacids"
   ]
  },
  {
   "cell_type": "code",
   "execution_count": 6,
   "id": "915f5fc1-6773-4666-85dc-426e6a4f72b2",
   "metadata": {},
   "outputs": [
    {
     "data": {
      "text/plain": [
       "40340165"
      ]
     },
     "execution_count": 6,
     "metadata": {},
     "output_type": "execute_result"
    }
   ],
   "source": [
    "unique_peptides = set(filter(lambda x: set(x)<=set(aa_list), unique_peptides))\n",
    "len(unique_peptides)"
   ]
  },
  {
   "cell_type": "markdown",
   "id": "6fdeef73-e6a4-40ec-a252-440b78ba230d",
   "metadata": {},
   "source": [
    "## Coarse histogram of tryptic peptides by length (bin-width of 20 aa)"
   ]
  },
  {
   "cell_type": "code",
   "execution_count": 7,
   "id": "45286269-407d-4690-8319-2e9ab0531125",
   "metadata": {},
   "outputs": [
    {
     "data": {
      "text/plain": [
       "9.77300539999851"
      ]
     },
     "execution_count": 7,
     "metadata": {},
     "output_type": "execute_result"
    },
    {
     "data": {
      "image/png": "[encoded data removed]",
      "text/plain": [
       "<Figure size 640x480 with 1 Axes>"
      ]
     },
     "metadata": {},
     "output_type": "display_data"
    }
   ],
   "source": [
    "bin_width = 20\n",
    "#t1 = timer()\n",
    "#ax = plt.hist(peptide_sizes, bins=6520//bin_width, range=(0, 6520))\n",
    "#t2 = timer()\n",
    "\n",
    "t3 = timer()\n",
    "size_counter = Counter(map(lambda x: x//bin_width, peptide_sizes))\n",
    "bins, counts = zip(*sorted(size_counter.items(), key=lambda x: x[0]))\n",
    "bins = list(map(lambda x: x*bin_width, bins))\n",
    "\n",
    "ax = plt.bar(bins, counts, width=bin_width-bargap, align='edge')\n",
    "t4 = timer()\n",
    "t4-t3"
   ]
  },
  {
   "cell_type": "code",
   "execution_count": 8,
   "id": "d1a99ea5-d6bc-4bba-b868-b45f42b0d292",
   "metadata": {},
   "outputs": [
    {
     "data": {
      "text/plain": [
       "Text(0, 0.5, '# of Peptides')"
      ]
     },
     "execution_count": 8,
     "metadata": {},
     "output_type": "execute_result"
    },
    {
     "data": {
      "image/png": "[encoded data removed]",
      "text/plain": [
       "<Figure size 640x480 with 1 Axes>"
      ]
     },
     "metadata": {},
     "output_type": "display_data"
    }
   ],
   "source": [
    "plt.bar(bins, list(map(lambda x: x/ax.datavalues.sum(), counts)), width=bin_width-bargap, align='edge')\n",
    "plt.xlim(0,100)\n",
    "plt.ylim(0,1)\n",
    "plt.xlabel(\"Peptide Length\")\n",
    "plt.ylabel(\"# of Peptides\")"
   ]
  },
  {
   "cell_type": "code",
   "execution_count": 9,
   "id": "17f90cb0-9375-40ab-8b69-a6cb0e8ac92e",
   "metadata": {},
   "outputs": [
    {
     "data": {
      "text/plain": [
       "(40, 60)"
      ]
     },
     "execution_count": 9,
     "metadata": {},
     "output_type": "execute_result"
    }
   ],
   "source": [
    "frac = ax.datavalues/ax.datavalues.sum()\n",
    "cumsum = np.cumsum(frac)\n",
    "bin95 = np.min(np.where(cumsum.round(2) >= 0.95))\n",
    "bin99 = np.min(np.where(cumsum.round(2) >= 0.99))\n",
    "bins[bin95+1], bins[bin99+1]"
   ]
  },
  {
   "cell_type": "markdown",
   "id": "a29554a6-42bc-417d-ba42-450e2e3f1e90",
   "metadata": {},
   "source": [
    "#### 95% of the tryptic peptides are less than 40 amino acids long.\n",
    "#### 99% of the tryptic peptides are less than 60 amino acids long. "
   ]
  },
  {
   "cell_type": "markdown",
   "id": "3d8286fd-5a38-4357-990d-6a64eb1a35fb",
   "metadata": {},
   "source": [
    "## Downsample the number of unique peptides, and assert the new sample represents the previous distribution"
   ]
  },
  {
   "cell_type": "code",
   "execution_count": 10,
   "id": "ca21c51e-6f57-467f-bf2c-884216c21e1e",
   "metadata": {},
   "outputs": [],
   "source": [
    "num_peptides = int(1e6)\n",
    "pep_list = list(unique_peptides)\n",
    "sampled_peptides = [pep_list[i] for i in np.random.choice(len(unique_peptides), num_peptides, replace=False)]"
   ]
  },
  {
   "cell_type": "code",
   "execution_count": 96,
   "id": "a4509fcf-1351-48fd-8e47-37b0d2815a2f",
   "metadata": {},
   "outputs": [
    {
     "name": "stdout",
     "output_type": "stream",
     "text": [
      "49906\n"
     ]
    }
   ],
   "source": [
    "#num_peptides_small = int(52350)\n",
    "#pep_list_small = list(unique_peptides)\n",
    "#sampled_peptides_small = [pep_list[i] for i in np.random.choice(len(unique_peptides), num_peptides_small, replace=False)]\n",
    "#len5to40 = filter(lambda x: 5<=len(x)<=40, sampled_peptides_small)\n",
    "#\n",
    "#with open('peptides_filtered_40orlessAA_50000.txt', 'w') as filtpep:\n",
    "#    filtpep.writelines(interpose('\\n', len5to40))\n",
    "#with open('peptides_filtered_40orlessAA_50000.txt', 'r') as filtpep:\n",
    "#    print(len(filtpep.readlines())) # should be less than num_peptides_small"
   ]
  },
  {
   "cell_type": "code",
   "execution_count": 11,
   "id": "0e3449ed-cdbf-485e-8ed5-00137191d69e",
   "metadata": {},
   "outputs": [
    {
     "data": {
      "text/plain": [
       "Text(0.5, 1.0, '1,000,000 Sampled Peptides')"
      ]
     },
     "execution_count": 11,
     "metadata": {},
     "output_type": "execute_result"
    },
    {
     "data": {
      "image/png": "[encoded data removed]",
      "text/plain": [
       "<Figure size 640x480 with 1 Axes>"
      ]
     },
     "metadata": {},
     "output_type": "display_data"
    }
   ],
   "source": [
    "bin_width = 20\n",
    "binned_lengths = map(lambda x: x//bin_width, map(len, sampled_peptides))\n",
    "length_counts = Counter(binned_lengths)\n",
    "\n",
    "x = length_counts.keys()\n",
    "y = length_counts.values()\n",
    "plt.bar([i*bin_width for i in x], [i/num_peptides for i in y], width=bin_width-bargap, align='edge')\n",
    "plt.xlim(0,100)\n",
    "plt.ylim(0,1)\n",
    "plt.xlabel(\"Peptide Length\")\n",
    "plt.ylabel(\"# of Peptides\")\n",
    "plt.title(f\"{num_peptides:,} Sampled Peptides\")"
   ]
  },
  {
   "cell_type": "code",
   "execution_count": 12,
   "id": "02a15a8e-879c-4de4-9e11-970766224023",
   "metadata": {},
   "outputs": [
    {
     "name": "stdout",
     "output_type": "stream",
     "text": [
      "Found 351061 unique digestion peptides between 5-10 amino acids.\n",
      "7972 are 5 amino acids long.\n",
      "43759 are 6 amino acids long.\n",
      "82524 are 7 amino acids long.\n",
      "80392 are 8 amino acids long.\n",
      "71618 are 9 amino acids long.\n",
      "64796 are 10 amino acids long.\n"
     ]
    },
    {
     "data": {
      "text/plain": [
       "Text(0.5, 0, 'Peptide Length')"
      ]
     },
     "execution_count": 12,
     "metadata": {},
     "output_type": "execute_result"
    },
    {
     "data": {
      "image/png": "[encoded data removed]",
      "text/plain": [
       "<Figure size 640x480 with 1 Axes>"
      ]
     },
     "metadata": {},
     "output_type": "display_data"
    }
   ],
   "source": [
    "min_length = 5\n",
    "max_length = 10\n",
    "\n",
    "peptides_filtered = set(filter(lambda x: min_length<=len(x)<=max_length, sampled_peptides))\n",
    "peptides_filtered_dict = dict([(i, []) for i in range(min_length, max_length+1)])\n",
    "for pep in peptides_filtered:\n",
    "    peptides_filtered_dict[len(pep)].append(pep)\n",
    "\n",
    "print(f'Found {len(peptides_filtered)} unique digestion peptides between {min_length}-{max_length} amino acids.')\n",
    "for size in sorted(peptides_filtered_dict.keys()):\n",
    "    print(f'{len(peptides_filtered_dict[size])} are {size} amino acids long.')\n",
    "\n",
    "plt.bar(range(min_length, max_length+1), [len(peptides_filtered_dict[i]) for i in range(min_length, max_length+1)])\n",
    "plt.ylabel('Number of Peptides')\n",
    "plt.xlabel('Peptide Length')"
   ]
  },
  {
   "cell_type": "code",
   "execution_count": 20,
   "id": "329aab4b-4bca-45dc-bd42-3435db9ea0b6",
   "metadata": {},
   "outputs": [
    {
     "name": "stdout",
     "output_type": "stream",
     "text": [
      "-19.0 37.0\n"
     ]
    }
   ],
   "source": [
    "sm = similarity_matrix(peptides_filtered_dict[5], blosum62)\n",
    "print(min(sm), max(sm))"
   ]
  },
  {
   "cell_type": "code",
   "execution_count": 22,
   "id": "56e2156d-6f31-4442-b9fb-452b5b60b833",
   "metadata": {},
   "outputs": [
    {
     "data": {
      "text/plain": [
       "7972"
      ]
     },
     "execution_count": 22,
     "metadata": {},
     "output_type": "execute_result"
    }
   ],
   "source": [
    "most_dissimilar_peptides = set()\n",
    "\n",
    "neg_scores = list(filter(lambda x: x<0, sm))\n",
    "for k in neg_scores:\n",
    "    for i in sm[k]:\n",
    "        most_dissimilar_peptides.add(i)\n",
    "\n",
    "num_diff_peptides = len(most_dissimilar_peptides)\n",
    "num_diff_peptides"
   ]
  },
  {
   "cell_type": "code",
   "execution_count": 25,
   "id": "f2128a69-4433-49e4-935d-51b30d15d349",
   "metadata": {},
   "outputs": [
    {
     "data": {
      "text/plain": [
       "100"
      ]
     },
     "execution_count": 25,
     "metadata": {},
     "output_type": "execute_result"
    }
   ],
   "source": [
    "distance_matrix = np.zeros((num_diff_peptides, num_diff_peptides))\n",
    "ordered_peptides = list(most_dissimilar_peptides)\n",
    "\n",
    "t1 = timer()\n",
    "for i, j in combinations(range(num_diff_peptides), 2):\n",
    "    distance_matrix[i, j] = distance_matrix[j, i] = alignment_score(ordered_peptides[i], ordered_peptides[j], blosum62)\n",
    "\n",
    "    \n",
    "#t2 = timer()\n",
    "#t2-t1, distance_matrix[0], broadcast(10, 10)"
   ]
  },
  {
   "cell_type": "code",
   "execution_count": null,
   "id": "a576acc7-a4a4-472a-925f-d041d4645484",
   "metadata": {},
   "outputs": [],
   "source": [
    "def coverage(sequence, subsequences):\n",
    "    covered_positions = set()\n",
    "    \n",
    "    for subseq in subsequences:\n",
    "        start = sequence.find(subseq)\n",
    "        while start != -1:\n",
    "            covered_positions.update(set(range(start, start + len(subseq))))\n",
    "            start = sequence.find(subseq, start + 1)\n",
    "    coverage_percentage = (len(covered_positions) / len(sequence)) * 100\n",
    "    return coverage_percentage\n",
    "    \n",
    "\n",
    "min_kmer_k = 4\n",
    "max_kmer_k = 7 # goal 10?\n",
    "peptide_kmer_dict = {}\n",
    "\n",
    "coverages = []\n",
    "for pep6 in unique_peptides_5to20aa_dict[6]:\n",
    "    pep5s = unique_peptides_5to20aa_dict[5]\n",
    "    coverages.append(coverage(pep6, pep5s))\n",
    "coverages/len(coverages)"
   ]
  },
  {
   "cell_type": "code",
   "execution_count": null,
   "id": "00893bc3-fc41-44e3-91c4-91c166319b1f",
   "metadata": {},
   "outputs": [],
   "source": [
    "unique_kmers = []\n",
    "k = 5\n",
    "for i in unique_peptides_lessthan_20aa:\n",
    "    kmers = [i[n:n+k] for n in range(len(i)-k)]\n",
    "    for j in kmers:\n",
    "        if j not in unique_kmers:\n",
    "            unique_kmers.append(j)\n",
    "len(unique_kmers)"
   ]
  },
  {
   "cell_type": "code",
   "execution_count": 360,
   "id": "50278cd1-0202-4d36-9390-6506ecf69211",
   "metadata": {},
   "outputs": [
    {
     "data": {
      "image/png": "[encoded data removed]",
      "text/plain": [
       "<Figure size 1000x700 with 1 Axes>"
      ]
     },
     "metadata": {},
     "output_type": "display_data"
    }
   ],
   "source": [
    "linked = linkage(blosum62, 'ward', optimal_ordering=True)\n",
    "\n",
    "plt.figure(figsize=(10, 7))\n",
    "x = dendrogram(linked,\n",
    "           orientation='top',\n",
    "           labels=blosum62.alphabet,\n",
    "           distance_sort='ascending',\n",
    "           show_leaf_counts=True)\n",
    "plt.show()"
   ]
  },
  {
   "cell_type": "code",
   "execution_count": 373,
   "id": "6fc7109c-83f5-4c0d-b991-07c1597fff7b",
   "metadata": {},
   "outputs": [],
   "source": [
    "np.random.seed(5)\n",
    "blosum90 = substitution_matrices.load(\"RAO\")\n",
    "mds = sklearn.manifold.MDS(n_components=1, \n",
    "                           n_init = 50, \n",
    "                           max_iter = 100000, \n",
    "                           eps = 1e-10,\n",
    "                           verbose=False,\n",
    "                           dissimilarity='precomputed')\n",
    "fit = mds.fit(np.array(blosum90.data)*-1)"
   ]
  },
  {
   "cell_type": "code",
   "execution_count": 374,
   "id": "c3e2c937-d03f-4b72-91c3-7fd7257a19e6",
   "metadata": {},
   "outputs": [
    {
     "data": {
      "image/png": "[encoded data removed]",
      "text/plain": [
       "<Figure size 640x480 with 1 Axes>"
      ]
     },
     "metadata": {},
     "output_type": "display_data"
    }
   ],
   "source": [
    "fontsize=9\n",
    "labeled_embeddings = sorted([(fit.embedding_[:-1][i][0], blosum90.alphabet[:-1][i]) for i in range(len(fit.embedding_)-1)])\n",
    "\n",
    "x, labels = list(zip(*labeled_embeddings))\n",
    "y = np.ones(len(blosum90.alphabet)-1)\n",
    "plt.scatter(x, y, alpha=0.5, s=fontsize**2)\n",
    "\n",
    "for i, label in enumerate(labels):\n",
    "    plt.text(x[i], y[i]+0.005*(-1)**i, label, fontsize=fontsize, ha='center', va='center')"
   ]
  },
  {
   "cell_type": "code",
   "execution_count": null,
   "id": "504523eb-3432-4cee-a150-2d46e2362b70",
   "metadata": {},
   "outputs": [],
   "source": []
  }
 ],
 "metadata": {
  "kernelspec": {
   "display_name": "pyms_kernel",
   "language": "python",
   "name": "pyms_kernel"
  },
  "language_info": {
   "codemirror_mode": {
    "name": "ipython",
    "version": 3
   },
   "file_extension": ".py",
   "mimetype": "text/x-python",
   "name": "python",
   "nbconvert_exporter": "python",
   "pygments_lexer": "ipython3",
   "version": "3.11.9"
  }
 },
 "nbformat": 4,
 "nbformat_minor": 5
}
