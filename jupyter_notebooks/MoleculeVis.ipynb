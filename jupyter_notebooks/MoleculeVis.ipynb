{
 "cells": [
  {
   "cell_type": "code",
   "execution_count": 10,
   "id": "9a25be9e-a069-49b5-b1db-3a1140ee6f11",
   "metadata": {},
   "outputs": [
    {
     "data": {
      "application/vnd.jupyter.widget-view+json": {
       "model_id": "dfd2f9a2490f408992fed08f5ec91510",
       "version_major": 2,
       "version_minor": 0
      },
      "text/plain": [
       "Text(value='CCO', description='SMILES:')"
      ]
     },
     "metadata": {},
     "output_type": "display_data"
    },
    {
     "data": {
      "application/vnd.jupyter.widget-view+json": {
       "model_id": "acb0a3e3421e49988126dab45780c13d",
       "version_major": 2,
       "version_minor": 0
      },
      "text/plain": [
       "Button(description='Draw and Convert', style=ButtonStyle())"
      ]
     },
     "metadata": {},
     "output_type": "display_data"
    }
   ],
   "source": []
  },
  {
   "cell_type": "code",
   "execution_count": null,
   "id": "af7fb107-a872-4e19-9a8c-a58a3dc7b792",
   "metadata": {},
   "outputs": [],
   "source": [
    "#https://pymatgen.org/pymatgen.symmetry.html\n",
    "#rdkit\n",
    "#pyvista\n",
    "#https://stackoverflow.com/questions/57062757/how-to-generate-a-graph-from-a-smiles-molecule-representation\n",
    "#https://stackoverflow.com/questions/51195392/smiles-from-graph\n"
   ]
  }
 ],
 "metadata": {
  "kernelspec": {
   "display_name": "Python 3 (ipykernel)",
   "language": "python",
   "name": "python3"
  },
  "language_info": {
   "codemirror_mode": {
    "name": "ipython",
    "version": 3
   },
   "file_extension": ".py",
   "mimetype": "text/x-python",
   "name": "python",
   "nbconvert_exporter": "python",
   "pygments_lexer": "ipython3",
   "version": "3.13.1"
  }
 },
 "nbformat": 4,
 "nbformat_minor": 5
}
