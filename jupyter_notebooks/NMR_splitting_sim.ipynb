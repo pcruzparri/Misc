{
 "cells": [
  {
   "cell_type": "code",
   "execution_count": 1,
   "id": "a72c8783",
   "metadata": {},
   "outputs": [],
   "source": [
    "import numpy as np\n",
    "#from scipy.signal import gaussian\n",
    "import matplotlib.pyplot as plt"
   ]
  },
  {
   "cell_type": "code",
   "execution_count": 98,
   "id": "86c2be13",
   "metadata": {},
   "outputs": [],
   "source": [
    "def Pascals_triangle(n):\n",
    "    ind = 1\n",
    "    row = [0, 1, 0]\n",
    "    while ind < n:\n",
    "        row = [0] + [sum(row[i:i+2]) for i in range(len(row)-1)] + [0]\n",
    "        ind += 1\n",
    "    return row[1:-1]\n",
    "\n",
    "def gaussian(x, x0, a, sigma):\n",
    "    return a * np.exp(-(x-x0)**2/(2*sigma**2))\n",
    "       \n",
    "\n",
    "class Peak:\n",
    "    def __init__(self, \n",
    "                 window=(10,0,1000),\n",
    "                 shift=1.5, \n",
    "                 sigma=0.01, \n",
    "                 height=2, \n",
    "                 norm=False):\n",
    "        self.window = np.linspace(*window)\n",
    "        self.shift = shift\n",
    "        self.sigma = sigma\n",
    "        self.height = height\n",
    "        self.norm=norm\n",
    "        self.peak = [gaussian(self.window, self.shift, self.height, self.sigma)]\n",
    "        if self.norm: self.peak[0] /= np.sum(self.peak[0])\n",
    "        \n",
    "    def split_peak(self, mult=2, J=0.1):\n",
    "        intensities = Pascals_triangle(mult)\n",
    "        peak = np.zeros(len(self.window))\n",
    "        if mult%2==0:\n",
    "            subpeak_shifts = [self.shift + J/2 + J*(mult-2)/2 - i*J for i in range(mult)]\n",
    "        else:\n",
    "            subpeak_shifts = [self.shift + J*mult//2 - i*J for i in range(mult)]\n",
    "            \n",
    "        for i in range(mult):\n",
    "            peak += gaussian(self.window, \n",
    "                             subpeak_shifts[i],\n",
    "                             intensities[i], \n",
    "                             self.sigma)\n",
    "        self.peak.append(peak/(self.norm*np.sum(peak)))\n",
    "        \n",
    "\"\"\"\n",
    "TODO: \n",
    "1) add function to individually shift peaks. this will be useful for next layers of spllitting\n",
    "2) store each layer of splitting's shifts and intensities in addition to the peak. this will be \n",
    "useful for properly shifting and re scaling the peaks for each new layer of splittings. With this,\n",
    "after transforming all the shifts and intensities, the peaks can then be generated. \n",
    "3) GUI? Spectrum class that is a collection of peaks?\n",
    "\"\"\"\n",
    "        \n",
    "    \n",
    "    \n",
    "        \n",
    "        \n",
    "        "
   ]
  },
  {
   "cell_type": "code",
   "execution_count": 113,
   "id": "25e65eb5",
   "metadata": {},
   "outputs": [
    {
     "data": {
      "text/plain": [
       "(0.0, 0.5)"
      ]
     },
     "execution_count": 113,
     "metadata": {},
     "output_type": "execute_result"
    },
    {
     "data": {
      "image/png": "[encoded data removed]",
      "text/plain": [
       "<Figure size 640x480 with 1 Axes>"
      ]
     },
     "metadata": {},
     "output_type": "display_data"
    }
   ],
   "source": [
    "p = Peak(sigma=.02, norm=True)\n",
    "p.split_peak(2, 0.4)\n",
    "\n",
    "plt.plot(t, p.peak[-1])\n",
    "plt.xlim(10, 0)\n",
    "plt.ylim(0, 0.5)"
   ]
  },
  {
   "cell_type": "code",
   "execution_count": null,
   "id": "e35f7bff",
   "metadata": {},
   "outputs": [],
   "source": []
  },
  {
   "cell_type": "code",
   "execution_count": null,
   "id": "c6c7d015",
   "metadata": {},
   "outputs": [],
   "source": []
  }
 ],
 "metadata": {
  "kernelspec": {
   "display_name": "Python 3 (ipykernel)",
   "language": "python",
   "name": "python3"
  },
  "language_info": {
   "codemirror_mode": {
    "name": "ipython",
    "version": 3
   },
   "file_extension": ".py",
   "mimetype": "text/x-python",
   "name": "python",
   "nbconvert_exporter": "python",
   "pygments_lexer": "ipython3",
   "version": "3.8.16"
  }
 },
 "nbformat": 4,
 "nbformat_minor": 5
}
