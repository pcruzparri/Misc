{
 "cells": [
  {
   "cell_type": "code",
   "execution_count": 173,
   "id": "a72c8783",
   "metadata": {},
   "outputs": [],
   "source": [
    "import numpy as np\n",
    "#from scipy.signal import gaussian\n",
    "import matplotlib.pyplot as plt"
   ]
  },
  {
   "cell_type": "code",
   "execution_count": 181,
   "id": "86c2be13",
   "metadata": {},
   "outputs": [],
   "source": [
    "def Pascals_triangle(n):\n",
    "    ind = 1\n",
    "    row = [0, 1, 0]\n",
    "    while ind < n:\n",
    "        row = [0] + [sum(row[i:i+2]) for i in range(len(row)-1)] + [0]\n",
    "        ind += 1\n",
    "    return row[1:-1]\n",
    "\n",
    "def gaussian(x, x0, a, FWHM):\n",
    "    sigma = FWHM/2.355\n",
    "    return a * np.exp(-(x-x0)**2/(2*sigma**2))\n",
    "\n",
    "def lorentzian(x, x0, a, FWHM):\n",
    "    return a*0.5*FWHM/np.pi/((x-x0)**2 + (0.5*FWHM)**2)\n",
    "\n",
    "def vline(x, ymin, ymax, npts=100):\n",
    "    return [x, x], [ymin, ymax]\n",
    "       \n",
    "\n",
    "class Peak:\n",
    "    def __init__(self, \n",
    "                 center_shift=1.5, \n",
    "                 integration=1):\n",
    "        self.center_shift = center_shift\n",
    "        self.integration = integration\n",
    "        self.intensities = [[1]]\n",
    "        self.subpeak_shifts = [[self.center_shift]]\n",
    "        \n",
    "        \n",
    "    def split_peak(self, mult=2, J=7, spect_freq=500):\n",
    "        J = J/spect_freq\n",
    "        self.intensities.append([prev*new for prev in self.intensities[-1] for new in Pascals_triangle(mult)])\n",
    "        #print(self.subpeak_shifts, self.subpeak_shifts[-1])\n",
    "        if mult%2==0:\n",
    "            self.subpeak_shifts.append([prev + J/2 + J*(mult-2)/2 - subpeak*J \n",
    "                                     for prev in self.subpeak_shifts[-1]\n",
    "                                    for subpeak in range(mult)])\n",
    "        else:\n",
    "            self.subpeak_shifts.append([prev + J/2 + J*(mult-2)/2 - subpeak*J \n",
    "                                     for prev in self.subpeak_shifts[-1]\n",
    "                                    for subpeak in range(mult)])\n",
    "\n",
    "    def undo_split(self):\n",
    "        self.intensities = self.intensities[:-1]\n",
    "        self.subpeak_shifts = self.subpeak_shifts[:-1]\n",
    "\n",
    "    def shift_center(self, delta=0):\n",
    "        self.center_shift+=delta\n",
    "        self.subpeak_shifts = [[subshift+delta for subshift in splitting] \n",
    "                               for splitting in self.subpeak_shifts]\n",
    "\n",
    "    def get_peak(self):\n",
    "        return self.intensities[-1], self.subpeak_shifts[-1]\n",
    "\n",
    "\n",
    "class Spectrum:\n",
    "    def __init__(peaks):\n",
    "        self.peaks = list(peaks)\n",
    "\n",
    "    def add_peak(peak = None, **kwargs):\n",
    "        if peak:\n",
    "            self.peaks.append(peak)\n",
    "        else:\n",
    "            self.peaks.append(Peak(**kwargs))\n",
    "\n",
    "    def replace_peak(peak, ind):\n",
    "        self.peaks[ind] = peak\n",
    "\n",
    "    def remove_peak(ind):\n",
    "        #len(self.peaks)>ind>=0\n",
    "        assert 0<=ind<len(self.peaks), f\"Index {ind} is out of the range [0, {len(self.peaks)}).\"\n",
    "        self.peaks = self.peaks[:ind] + self.peaks[ind+1:]\n",
    "        \n",
    "\n",
    "class Plot(Spectrum):\n",
    "    def __init__(self):\n",
    "        pass\n",
    "        \n",
    "    def plot(self):\n",
    "        pass\n",
    " "
   ]
  },
  {
   "cell_type": "code",
   "execution_count": 218,
   "id": "25e65eb5",
   "metadata": {},
   "outputs": [
    {
     "data": {
      "text/plain": [
       "(5.1, 4.9)"
      ]
     },
     "execution_count": 218,
     "metadata": {},
     "output_type": "execute_result"
    },
    {
     "data": {
      "image/png": "[encoded data removed]",
      "text/plain": [
       "<Figure size 640x480 with 1 Axes>"
      ]
     },
     "metadata": {},
     "output_type": "display_data"
    }
   ],
   "source": [
    "p = Peak(center_shift = 5, integration=3)\n",
    "p.split_peak(2, 3) #multiplicity, J in Hz\n",
    "p.split_peak(2, 7)\n",
    "p.split_peak(3, 15)\n",
    "\n",
    "\n",
    "ppm = np.linspace(0,10,100000)\n",
    "intensities = np.zeros(100000)\n",
    "inten, subshifts = p.get_peak()\n",
    "lfit_peak = np.sum(np.array([lorentzian(ppm, subshifts[i], inten[i], 0.1)\n",
    "                             for i in range(len(inten))]), axis=0)\n",
    "\n",
    "\n",
    "plt.plot(ppm, lfit_peak/np.sum(lfit_peak)*p.integration, markersize=0.5, linewidth=0.5)\n",
    "\n",
    "\n",
    "\"\"\"\n",
    "linepeaks = [vline(subshifts[i], 0, inten[i]/max(gfit_peak)/10) for i in range(len(inten))]\n",
    "for linepeak in linepeaks:\n",
    "    plt.plot(*linepeak, markersize=0.5, linewidth=0.5)\n",
    "\"\"\"\n",
    "\n",
    "\n",
    "plt.xlim(5.1, 4.9)\n",
    "#plt.ylim(0, 0.5)"
   ]
  },
  {
   "cell_type": "markdown",
   "id": "aabddc05-77f7-45a5-8b5f-2975a21273b1",
   "metadata": {},
   "source": [
    "TODO: \n",
    "1) add function to individually shift peaks. this will be useful for next layers of splitting: DONE\n",
    "2) store each layer of splitting's shifts and intensities in addition to the peak. this will be useful for properly shifting and re scaling the peaks for each new layer of splittings. With this, after transforming all the shifts and intensities, the peaks can then be generated: DONE\n",
    "3) Spectrum class that is a collection of peaks?: (started, untested) \n",
    "4) Plot class where plotting parameters are stored and handles the plot creation (fitting gaussian or lorentzian functions to intensity/shift/sigma) to each subpeak in a peak: (started, incomplete)\n",
    "5) GUI?\n"
   ]
  },
  {
   "cell_type": "code",
   "execution_count": null,
   "id": "44ec6312-2c35-405b-ac81-9b24694b905e",
   "metadata": {},
   "outputs": [],
   "source": []
  }
 ],
 "metadata": {
  "kernelspec": {
   "display_name": "Python 3 (ipykernel)",
   "language": "python",
   "name": "python3"
  },
  "language_info": {
   "codemirror_mode": {
    "name": "ipython",
    "version": 3
   },
   "file_extension": ".py",
   "mimetype": "text/x-python",
   "name": "python",
   "nbconvert_exporter": "python",
   "pygments_lexer": "ipython3",
   "version": "3.10.12"
  },
  "widgets": {
   "application/vnd.jupyter.widget-state+json": {
    "state": {},
    "version_major": 2,
    "version_minor": 0
   }
  }
 },
 "nbformat": 4,
 "nbformat_minor": 5
}
