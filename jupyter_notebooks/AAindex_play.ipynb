{
 "cells": [
  {
   "cell_type": "code",
   "execution_count": 12,
   "id": "2bc65d27-6d94-4633-8ebb-d2c76ddfd908",
   "metadata": {},
   "outputs": [],
   "source": [
    "import requests\n",
    "import warnings\n",
    "from re import search\n",
    "from dataclasses import dataclass\n",
    "from typing import Optional, Union\n",
    "from pathlib import Path"
   ]
  },
  {
   "cell_type": "code",
   "execution_count": 2,
   "id": "4373c000-9482-4320-936e-d56db2fca462",
   "metadata": {},
   "outputs": [],
   "source": [
    "def download_aaindices_list(index_type: str, path=\"\") -> tuple[bool, int]:\n",
    "    assert index_type in ['indices', 'matrices', 'potentials'], \"Please enter a valid AAIndex. ('indices', 'matrices', 'potentials')\"\n",
    "    r = requests.get(f\"https://www.genome.jp/aaindex/AAindex/list_of_{index_type}\")\n",
    "    if r.ok:\n",
    "        with open(Path(path).joinpath(f'list_of_{index_type}.txt'), 'w') as f:\n",
    "            f.write(r.text)\n",
    "    return r.ok, r.status_code\n",
    "\n",
    "def download_aaindex(index_number: int, path=\"\") -> None:\n",
    "    assert index_number in [1,2,3], \"Please enter a correct AAindex number. (1, 2, or 3).\"\n",
    "    r = requests.get(f'https://www.genome.jp/ftp/db/community/aaindex/aaindex{index_number}')\n",
    "    if r.ok:\n",
    "        with open(Path(path).joinpath(f\"aaindex{index_number}.txt\"), 'w') as f:\n",
    "            f.write(r.text)\n",
    "    else:\n",
    "        return r.ok, r.status_code"
   ]
  },
  {
   "cell_type": "code",
   "execution_count": 3,
   "id": "511ef94e-f426-4393-bd57-dbadafa25d7b",
   "metadata": {},
   "outputs": [],
   "source": [
    "# prob not necessary\n",
    "def download_aaindex_from_accession(accession: str) -> list[float]:\n",
    "    aaindex_ordered_residues = \"ARNDCQEGHILKMFPSTWYV\"\n",
    "    r = requests.get(f\"https://www.genome.jp/entry/aaindex:{accession}\")\n",
    "    if r.ok:\n",
    "        decoded_content = r.content.decode()\n",
    "        regex_matching_values = \"I/V\\n(.*\\n.*)\\n\"\n",
    "        index_values = search(regex_matching_values, decoded_content).groups()[0].split()\n",
    "        index_dict = {k:v for k,v in zip(aaindex_ordered_residues, map(float, index_values))}\n",
    "        return index_dict\n",
    "        \n",
    "    else: \n",
    "        return r.ok, r.status_code()\n",
    "\n"
   ]
  },
  {
   "cell_type": "code",
   "execution_count": 6,
   "id": "c4aea793-3089-40ac-93a0-223fd883b3ac",
   "metadata": {},
   "outputs": [],
   "source": [
    "def parse_aaindex1_to_dict(path=\"\"):\n",
    "    with open(Path(path).joinpath(\"aaindex1.txt\"), 'r') as f:\n",
    "        split_indices = f.read().split('//\\n')\n",
    "        aaindex1_dict = dict()\n",
    "        for a in split_indices:\n",
    "            rows = a.splitlines()\n",
    "            if rows:\n",
    "                accession = rows[0].split()[1]\n",
    "                aaindex1_dict[accession] = dict()\n",
    "        \n",
    "                readingI = False\n",
    "                readingC = False\n",
    "                \n",
    "                for row in rows:\n",
    "                    if row[0] in \"HDRATJ\":\n",
    "                        ld = row.split(maxsplit=1)\n",
    "                        aaindex1_dict[accession][ld[0]] = ld[1] if len(ld)==2 else ''\n",
    "                        \n",
    "                    elif row[0] == 'C' and not readingC:\n",
    "                        readingC = True\n",
    "                        aaindex1_dict[accession]['C'] = dict()\n",
    "                        c = row.split()[1:]\n",
    "                        for i in range(0, len(c), 2):\n",
    "                            aaindex1_dict[accession]['C'][c[i]] = float(c[i+1])\n",
    "                    \n",
    "                    elif row[0] != 'C' and row[0] != 'I' and readingC:\n",
    "                        c = row.split()\n",
    "                        for i in range(0, len(c), 2):\n",
    "                            aaindex1_dict[accession]['C'][c[i]] = float(c[i+1])\n",
    "        \n",
    "                    elif row[0] == 'I' and not readingI:\n",
    "                        readingC = False\n",
    "                        readingI = True\n",
    "                        aaindex1_dict[accession]['I'] = []\n",
    "        \n",
    "                    elif readingI:\n",
    "                        i = row.split()\n",
    "                        vals = [float(val) if val!='NA' else None for val in row.split()]\n",
    "                        aaindex1_dict[accession]['I'] += (vals)\n",
    "                aaindex1_dict[accession]['has_na'] = None in aaindex1_dict[accession]['I']\n",
    "    return aaindex1_dict     \n",
    "\n",
    "def parse_aaindex2_to_dict():\n",
    "    pass\n",
    "    \n",
    "def parse_aaindex3_to_dict():\n",
    "    pass\n",
    "\n",
    "@dataclass\n",
    "class AAindex1: \n",
    "    accession: str\n",
    "    description: str\n",
    "    pmid: str\n",
    "    authors: str\n",
    "    article_title: str\n",
    "    reference: str\n",
    "    correlations: dict[str, float]\n",
    "    index: dict[str, Optional[float]]\n",
    "    has_na: bool\n",
    "    amino_acids: str = \"ARNDCQEGHILKMFPSTWYV\"\n",
    "\n",
    "    def seq2vector(self, sequence: str) -> list[Optional[float]]:\n",
    "        return [self.index[aa] for aa in sequence]\n",
    "\n",
    "def parse_aaindex1_to_AAindex1():\n",
    "    amino_acids = \"ARNDCQEGHILKMFPSTWYV\"\n",
    "    aaindex1_dict = parse_aaindex1_to_dict()\n",
    "    aaindices = []\n",
    "    for v in aaindex1_dict.values():\n",
    "        aaindices.append(AAindex1(accession = v['H'],\n",
    "                                  description = v['D'],\n",
    "                                  pmid = v['R'],\n",
    "                                  authors = v['A'],\n",
    "                                  article_title = v['T'],\n",
    "                                  reference = v['R'],\n",
    "                                  correlations = v['C'],\n",
    "                                  index = dict(zip(amino_acids, v['I'])),\n",
    "                                  has_na = v['has_na']))\n",
    "    return aaindices\n",
    "    \n",
    "def parse_aaindex2_to_AAindex2():\n",
    "    pass\n",
    "    \n",
    "def parse_aaindex3_to_AAindex3():\n",
    "    pass\n",
    "\n",
    "def get_aaindex(aaindex_objects, accession:str) -> Union[AAindex1, AAindex2, AAindex3]:\n",
    "    return [aai for aai in aaindex_objects if aai.accession==accession][0]"
   ]
  },
  {
   "cell_type": "code",
   "execution_count": 7,
   "id": "6c3dd009-a103-4255-9209-f3d51abd8a41",
   "metadata": {},
   "outputs": [
    {
     "data": {
      "text/plain": [
       "[4.35, 4.38, 4.75, 4.76]"
      ]
     },
     "execution_count": 7,
     "metadata": {},
     "output_type": "execute_result"
    }
   ],
   "source": [
    "indices = parse_aaindex1_to_objects()\n",
    "indices[0].seq2vector('ARND')"
   ]
  },
  {
   "cell_type": "code",
   "execution_count": 11,
   "id": "447af67e-f242-4b2a-a942-471e0ed38c85",
   "metadata": {},
   "outputs": [
    {
     "data": {
      "text/plain": [
       "('Signal sequence helical potential (Argos et al., 1982)',\n",
       " {'A': 1.18,\n",
       "  'R': 0.2,\n",
       "  'N': 0.23,\n",
       "  'D': 0.05,\n",
       "  'C': 1.89,\n",
       "  'Q': 0.72,\n",
       "  'E': 0.11,\n",
       "  'G': 0.49,\n",
       "  'H': 0.31,\n",
       "  'I': 1.45,\n",
       "  'L': 3.23,\n",
       "  'K': 0.06,\n",
       "  'M': 2.67,\n",
       "  'F': 1.96,\n",
       "  'P': 0.76,\n",
       "  'S': 0.97,\n",
       "  'T': 0.84,\n",
       "  'W': 0.77,\n",
       "  'Y': 0.39,\n",
       "  'V': 1.08})"
      ]
     },
     "execution_count": 11,
     "metadata": {},
     "output_type": "execute_result"
    }
   ],
   "source": [
    "ARGP820102 = get_aaindex1(indices, 'ARGP820102')\n",
    "ARGP820102.description, ARGP820102.index"
   ]
  },
  {
   "cell_type": "code",
   "execution_count": null,
   "id": "3cdaad09-560a-47b1-9e96-e0b2a96eecb5",
   "metadata": {},
   "outputs": [],
   "source": []
  }
 ],
 "metadata": {
  "kernelspec": {
   "display_name": "Python 3 (ipykernel)",
   "language": "python",
   "name": "python3"
  },
  "language_info": {
   "codemirror_mode": {
    "name": "ipython",
    "version": 3
   },
   "file_extension": ".py",
   "mimetype": "text/x-python",
   "name": "python",
   "nbconvert_exporter": "python",
   "pygments_lexer": "ipython3",
   "version": "3.12.4"
  }
 },
 "nbformat": 4,
 "nbformat_minor": 5
}
