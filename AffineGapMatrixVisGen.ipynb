{
 "cells": [
  {
   "cell_type": "code",
   "execution_count": 1,
   "id": "269abeda-fa4e-489a-ad92-2ad739bb2646",
   "metadata": {},
   "outputs": [],
   "source": [
    "import numpy as np\n",
    "import matplotlib.pyplot as plt"
   ]
  },
  {
   "cell_type": "code",
   "execution_count": 28,
   "id": "ec11a2f3-923c-488d-8fe2-713f87d8021c",
   "metadata": {},
   "outputs": [
    {
     "data": {
      "text/plain": [
       "array([[[  0.,  -3.,  -3.],\n",
       "        [  0.,  -5., -inf],\n",
       "        [  0.,  -7., -inf],\n",
       "        [  0.,  -9., -inf],\n",
       "        [  0., -11., -inf]],\n",
       "\n",
       "       [[  0., -inf,  -5.],\n",
       "        [  1.,  -5.,  -5.],\n",
       "        [  1.,  -5.,  -4.],\n",
       "        [  1.,  -5.,  -4.],\n",
       "        [  0.,   0.,   0.]],\n",
       "\n",
       "       [[  0., -inf,  -7.],\n",
       "        [  1.,  -4.,  -5.],\n",
       "        [  2.,  -4.,  -4.],\n",
       "        [  2.,  -4.,  -3.],\n",
       "        [  0.,   0.,   0.]],\n",
       "\n",
       "       [[  0., -inf,  -9.],\n",
       "        [  1.,  -4.,  -5.],\n",
       "        [  2.,  -3.,  -4.],\n",
       "        [  3.,  -3.,  -3.],\n",
       "        [  0.,   0.,   0.]],\n",
       "\n",
       "       [[  0., -inf, -11.],\n",
       "        [  1.,  -4.,  -5.],\n",
       "        [  2.,  -3.,  -4.],\n",
       "        [  3.,  -2.,  -3.],\n",
       "        [  0.,   0.,   0.]],\n",
       "\n",
       "       [[  0., -inf, -13.],\n",
       "        [  0.,   0.,   0.],\n",
       "        [  0.,   0.,   0.],\n",
       "        [  0.,   0.,   0.],\n",
       "        [  0.,   0.,   0.]]])"
      ]
     },
     "execution_count": 28,
     "metadata": {},
     "output_type": "execute_result"
    }
   ],
   "source": [
    "def affine_gap_fixed(seq1, seq2, match=1, mismatch=-1, gap=-3, space=-2):\n",
    "    mat = np.zeros((len(seq1)+1, len(seq2)+1, 3))\n",
    "\n",
    "    # row 0 init\n",
    "    mat[0, 0] = np.array([0, gap, gap])\n",
    "    mat[0, 1:, 1] = gap + np.linspace(1, len(seq2), len(seq2))*space # Ix init\n",
    "    mat[0, 1:, 2] =-np.inf # Iy init\n",
    "    \n",
    "    # col 0 init\n",
    "    mat[1:, 0, 1] = -np.inf # Ix init\n",
    "    mat[1:, 0, 2] = gap + np.linspace(1, len(seq1), len(seq1))*space # Iy init\n",
    "\n",
    "    pointers = [[[] for j in range(len(seq2))] for i in range(len(seq1))]\n",
    "    \n",
    "    for i in range(1, len(seq1)):\n",
    "        for j in range(1, len(seq2)):\n",
    "            if seq1[i-1] == seq2[i-1]:\n",
    "                S_ij = match\n",
    "            else:\n",
    "                S_ij = mismatch\n",
    "\n",
    "            \n",
    "            mat[i, j, 0] = max(mat[i-1, j-1, 0] + S_ij, mat[i-1, j-1, 1] + S_ij, mat[i-1, j-1, 2] + S_ij) # M_ij\n",
    "            mat[i, j, 1] = max(mat[i-1, j, 0] + gap + space, mat[i-1, j, 1] + space) # Ix_ij\n",
    "            mat[i, j, 2] = max(mat[i, j-1, 0] + gap + space, mat[i, j-1, 2] + space) # Iy_ij\n",
    "\n",
    "    return mat\n",
    "\n",
    "affine_gap_fixed(\"hello\", \"hell\")"
   ]
  },
  {
   "cell_type": "code",
   "execution_count": null,
   "id": "75259cc6-570a-4862-abd2-1f9383ae54f7",
   "metadata": {},
   "outputs": [],
   "source": []
  }
 ],
 "metadata": {
  "kernelspec": {
   "display_name": "pyms_kernel",
   "language": "python",
   "name": "pyms_kernel"
  },
  "language_info": {
   "codemirror_mode": {
    "name": "ipython",
    "version": 3
   },
   "file_extension": ".py",
   "mimetype": "text/x-python",
   "name": "python",
   "nbconvert_exporter": "python",
   "pygments_lexer": "ipython3",
   "version": "3.11.9"
  }
 },
 "nbformat": 4,
 "nbformat_minor": 5
}
