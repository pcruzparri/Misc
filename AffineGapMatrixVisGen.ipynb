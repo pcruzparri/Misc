{
 "cells": [
  {
   "cell_type": "code",
   "execution_count": 2,
   "id": "269abeda-fa4e-489a-ad92-2ad739bb2646",
   "metadata": {},
   "outputs": [
    {
     "name": "stderr",
     "output_type": "stream",
     "text": [
      "C:\\Users\\Peter\\miniconda3\\lib\\site-packages\\numpy\\_distributor_init.py:30: UserWarning: loaded more than 1 DLL from .libs:\n",
      "C:\\Users\\Peter\\miniconda3\\lib\\site-packages\\numpy\\.libs\\libopenblas.EL2C6PLE4ZYW3ECEVIV3OXXGRN2NRFM2.gfortran-win_amd64.dll\n",
      "C:\\Users\\Peter\\miniconda3\\lib\\site-packages\\numpy\\.libs\\libopenblas64__v0.3.21-gcc_10_3_0.dll\n",
      "  warnings.warn(\"loaded more than 1 DLL from .libs:\"\n"
     ]
    }
   ],
   "source": [
    "import numpy as np\n",
    "import matplotlib.pyplot as plt"
   ]
  },
  {
   "cell_type": "code",
   "execution_count": 22,
   "id": "ec11a2f3-923c-488d-8fe2-713f87d8021c",
   "metadata": {},
   "outputs": [],
   "source": [
    "def affine_gap_fixed(seq1, seq2, match=1, mismatch=-1, gap=-3, space=-2):\n",
    "    mat = np.zeros((len(seq1)+1, len(seq2)+1, 3))\n",
    "\n",
    "    # row 0 init\n",
    "    mat[0, 0] = np.array([0, gap, gap])\n",
    "    mat[0, 1:, 1] = gap + np.linspace(1, len(seq2), len(seq2))*space # Ix init\n",
    "    mat[0, 1:, 2] =-np.inf # Iy init\n",
    "    \n",
    "    # col 0 init\n",
    "    mat[1:, 0, 1] = -np.inf # Ix init\n",
    "    mat[1:, 0, 2] = gap + np.linspace(1, len(seq1), len(seq1))*space # Iy init\n",
    "\n",
    "    pointers = [[[] for j in range(len(seq2))] for i in range(len(seq1))]\n",
    "    \n",
    "    for i in range(1, len(seq1)):\n",
    "        for j in range(1, len(seq2)):\n",
    "            if seq1[i-1] == seq2[i-1]:\n",
    "                S_ij = match\n",
    "            else:\n",
    "                S_ij = mismatch\n",
    "\n",
    "            \n",
    "            mat[i, j, 0] = max(mat[i-1, j-1, 0] + S_ij, mat[i-1, j-1, 1] + S_ij, mat[i-1, j-1, 2] + S_ij) # M_ij\n",
    "            mat[i, j, 1] = max(mat[i-1, j, 0] + gap + space, mat[i-1, j, 1] + space) # Ix_ij\n",
    "            mat[i, j, 2] = max(mat[i, j-1, 0] + gap + space, mat[i, j-1, 2] + space) # Iy_ij\n",
    "\n",
    "    return mat\n"
   ]
  },
  {
   "cell_type": "code",
   "execution_count": 23,
   "id": "75259cc6-570a-4862-abd2-1f9383ae54f7",
   "metadata": {},
   "outputs": [],
   "source": [
    "x = affine_gap_fixed(\"GTGA\", \"ATGCTAT\", match=4, mismatch=-2, gap=-1, space=-1)"
   ]
  },
  {
   "cell_type": "code",
   "execution_count": 24,
   "id": "ec81937d",
   "metadata": {},
   "outputs": [
    {
     "name": "stdout",
     "output_type": "stream",
     "text": [
      "0 0 [ 0. -1. -1.]\n",
      "0 1 [  0.  -2. -inf]\n",
      "0 2 [  0.  -3. -inf]\n",
      "0 3 [  0.  -4. -inf]\n",
      "0 4 [  0.  -5. -inf]\n",
      "0 5 [  0.  -6. -inf]\n",
      "0 6 [  0.  -7. -inf]\n",
      "0 7 [  0.  -8. -inf]\n",
      "1 0 [  0. -inf  -2.]\n",
      "1 1 [-2. -2. -2.]\n",
      "1 2 [-2. -2. -3.]\n",
      "1 3 [-2. -2. -4.]\n",
      "1 4 [-2. -2. -4.]\n",
      "1 5 [-2. -2. -4.]\n",
      "1 6 [-2. -2. -4.]\n",
      "1 7 [0. 0. 0.]\n",
      "2 0 [  0. -inf  -3.]\n",
      "2 1 [ 4. -3. -2.]\n",
      "2 2 [ 2. -3.  2.]\n",
      "2 3 [ 2. -3.  1.]\n",
      "2 4 [ 2. -3.  0.]\n",
      "2 5 [ 2. -3.  0.]\n",
      "2 6 [ 2. -3.  0.]\n",
      "2 7 [0. 0. 0.]\n",
      "3 0 [  0. -inf  -4.]\n",
      "3 1 [ 4.  2. -2.]\n",
      "3 2 [8. 0. 2.]\n",
      "3 3 [6. 0. 6.]\n",
      "3 4 [6. 0. 5.]\n",
      "3 5 [6. 0. 4.]\n",
      "3 6 [6. 0. 4.]\n",
      "3 7 [0. 0. 0.]\n",
      "4 0 [  0. -inf  -5.]\n",
      "4 1 [0. 0. 0.]\n",
      "4 2 [0. 0. 0.]\n",
      "4 3 [0. 0. 0.]\n",
      "4 4 [0. 0. 0.]\n",
      "4 5 [0. 0. 0.]\n",
      "4 6 [0. 0. 0.]\n",
      "4 7 [0. 0. 0.]\n"
     ]
    }
   ],
   "source": [
    "for i in range(5):\n",
    "    for j in range(8):\n",
    "        print(i, j, x[i, j])"
   ]
  },
  {
   "cell_type": "code",
   "execution_count": 15,
   "id": "7e60bcf2",
   "metadata": {},
   "outputs": [
    {
     "data": {
      "text/plain": [
       "array([[[  0.,  -1.,  -1.],\n",
       "        [  0.,  -2., -inf],\n",
       "        [  0.,  -3., -inf],\n",
       "        [  0.,  -4., -inf],\n",
       "        [  0.,  -5., -inf],\n",
       "        [  0.,  -6., -inf],\n",
       "        [  0.,  -7., -inf],\n",
       "        [  0.,  -8., -inf]],\n",
       "\n",
       "       [[  0., -inf,  -2.],\n",
       "        [ -2.,  -2.,  -2.],\n",
       "        [ -2.,  -2.,  -3.],\n",
       "        [ -2.,  -2.,  -4.],\n",
       "        [ -2.,  -2.,  -4.],\n",
       "        [ -2.,  -2.,  -4.],\n",
       "        [ -2.,  -2.,  -4.],\n",
       "        [  0.,   0.,   0.]],\n",
       "\n",
       "       [[  0., -inf,  -3.],\n",
       "        [  4.,  -3.,  -2.],\n",
       "        [  2.,  -3.,   2.],\n",
       "        [  2.,  -3.,   1.],\n",
       "        [  2.,  -3.,   0.],\n",
       "        [  2.,  -3.,   0.],\n",
       "        [  2.,  -3.,   0.],\n",
       "        [  0.,   0.,   0.]],\n",
       "\n",
       "       [[  0., -inf,  -4.],\n",
       "        [  4.,   2.,  -2.],\n",
       "        [  8.,   0.,   2.],\n",
       "        [  6.,   0.,   6.],\n",
       "        [  6.,   0.,   5.],\n",
       "        [  6.,   0.,   4.],\n",
       "        [  6.,   0.,   4.],\n",
       "        [  0.,   0.,   0.]],\n",
       "\n",
       "       [[  0., -inf,  -5.],\n",
       "        [  0.,   0.,   0.],\n",
       "        [  0.,   0.,   0.],\n",
       "        [  0.,   0.,   0.],\n",
       "        [  0.,   0.,   0.],\n",
       "        [  0.,   0.,   0.],\n",
       "        [  0.,   0.,   0.],\n",
       "        [  0.,   0.,   0.]]])"
      ]
     },
     "execution_count": 15,
     "metadata": {},
     "output_type": "execute_result"
    }
   ],
   "source": [
    "x"
   ]
  },
  {
   "cell_type": "code",
   "execution_count": null,
   "id": "dbce96d8",
   "metadata": {},
   "outputs": [],
   "source": []
  }
 ],
 "metadata": {
  "kernelspec": {
   "display_name": "Python 3 (ipykernel)",
   "language": "python",
   "name": "python3"
  },
  "language_info": {
   "codemirror_mode": {
    "name": "ipython",
    "version": 3
   },
   "file_extension": ".py",
   "mimetype": "text/x-python",
   "name": "python",
   "nbconvert_exporter": "python",
   "pygments_lexer": "ipython3",
   "version": "3.8.19"
  }
 },
 "nbformat": 4,
 "nbformat_minor": 5
}
